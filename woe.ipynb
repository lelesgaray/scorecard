{
 "cells": [
  {
   "cell_type": "code",
   "execution_count": 1,
   "metadata": {
    "colab": {
     "base_uri": "https://localhost:8080/",
     "height": 224
    },
    "colab_type": "code",
    "collapsed": true,
    "id": "44SGrRjAEARZ",
    "outputId": "aaaa84bf-0411-4b2f-b008-4bb97c62cfab"
   },
   "outputs": [
    {
     "name": "stdout",
     "output_type": "stream",
     "text": [
      "Collecting sidetable\n",
      "  Using cached https://files.pythonhosted.org/packages/a2/e7/7f1f22ad2d9a7b1003f04b68e7baa9c5646b1a918c359dc2a1f514d04fb4/sidetable-0.6.0-py3-none-any.whl\n",
      "Requirement already satisfied: pandas>=1.0 in c:\\users\\leand\\anaconda3\\lib\\site-packages (from sidetable) (1.0.5)\n",
      "Requirement already satisfied: numpy>=1.13.3 in c:\\users\\leand\\anaconda3\\lib\\site-packages (from pandas>=1.0->sidetable) (1.16.2)\n",
      "Requirement already satisfied: pytz>=2017.2 in c:\\users\\leand\\anaconda3\\lib\\site-packages (from pandas>=1.0->sidetable) (2018.9)\n",
      "Requirement already satisfied: python-dateutil>=2.6.1 in c:\\users\\leand\\anaconda3\\lib\\site-packages (from pandas>=1.0->sidetable) (2.8.0)\n",
      "Requirement already satisfied: six>=1.5 in c:\\users\\leand\\anaconda3\\lib\\site-packages (from python-dateutil>=2.6.1->pandas>=1.0->sidetable) (1.12.0)\n",
      "Installing collected packages: sidetable\n",
      "Successfully installed sidetable-0.6.0\n"
     ]
    }
   ],
   "source": [
    "import numpy as np\n",
    "import pandas as pd\n",
    "! pip install sidetable\n",
    "import sidetable\n",
    "import matplotlib.pyplot as plt\n",
    "%matplotlib inline\n",
    "import seaborn as sns"
   ]
  },
  {
   "cell_type": "code",
   "execution_count": 2,
   "metadata": {
    "colab": {
     "base_uri": "https://localhost:8080/",
     "height": 204
    },
    "colab_type": "code",
    "id": "of501QY2ELft",
    "outputId": "167c181e-2889-4076-c0f6-5d2969a6fc4d"
   },
   "outputs": [
    {
     "data": {
      "text/html": [
       "<div>\n",
       "<style scoped>\n",
       "    .dataframe tbody tr th:only-of-type {\n",
       "        vertical-align: middle;\n",
       "    }\n",
       "\n",
       "    .dataframe tbody tr th {\n",
       "        vertical-align: top;\n",
       "    }\n",
       "\n",
       "    .dataframe thead th {\n",
       "        text-align: right;\n",
       "    }\n",
       "</style>\n",
       "<table border=\"1\" class=\"dataframe\">\n",
       "  <thead>\n",
       "    <tr style=\"text-align: right;\">\n",
       "      <th></th>\n",
       "      <th>BAD</th>\n",
       "      <th>LOAN</th>\n",
       "      <th>MORTDUE</th>\n",
       "      <th>VALUE</th>\n",
       "      <th>REASON</th>\n",
       "      <th>JOB</th>\n",
       "      <th>YOJ</th>\n",
       "      <th>DEROG</th>\n",
       "      <th>DELINQ</th>\n",
       "      <th>CLAGE</th>\n",
       "      <th>NINQ</th>\n",
       "      <th>CLNO</th>\n",
       "      <th>DEBTINC</th>\n",
       "    </tr>\n",
       "  </thead>\n",
       "  <tbody>\n",
       "    <tr>\n",
       "      <th>0</th>\n",
       "      <td>1</td>\n",
       "      <td>1100</td>\n",
       "      <td>25860.0</td>\n",
       "      <td>39025.0</td>\n",
       "      <td>HomeImp</td>\n",
       "      <td>Other</td>\n",
       "      <td>10.5</td>\n",
       "      <td>0.0</td>\n",
       "      <td>0.0</td>\n",
       "      <td>94.366667</td>\n",
       "      <td>1.0</td>\n",
       "      <td>9.0</td>\n",
       "      <td>NaN</td>\n",
       "    </tr>\n",
       "    <tr>\n",
       "      <th>1</th>\n",
       "      <td>1</td>\n",
       "      <td>1300</td>\n",
       "      <td>70053.0</td>\n",
       "      <td>68400.0</td>\n",
       "      <td>HomeImp</td>\n",
       "      <td>Other</td>\n",
       "      <td>7.0</td>\n",
       "      <td>0.0</td>\n",
       "      <td>2.0</td>\n",
       "      <td>121.833333</td>\n",
       "      <td>0.0</td>\n",
       "      <td>14.0</td>\n",
       "      <td>NaN</td>\n",
       "    </tr>\n",
       "    <tr>\n",
       "      <th>2</th>\n",
       "      <td>1</td>\n",
       "      <td>1500</td>\n",
       "      <td>13500.0</td>\n",
       "      <td>16700.0</td>\n",
       "      <td>HomeImp</td>\n",
       "      <td>Other</td>\n",
       "      <td>4.0</td>\n",
       "      <td>0.0</td>\n",
       "      <td>0.0</td>\n",
       "      <td>149.466667</td>\n",
       "      <td>1.0</td>\n",
       "      <td>10.0</td>\n",
       "      <td>NaN</td>\n",
       "    </tr>\n",
       "    <tr>\n",
       "      <th>3</th>\n",
       "      <td>1</td>\n",
       "      <td>1500</td>\n",
       "      <td>NaN</td>\n",
       "      <td>NaN</td>\n",
       "      <td>NaN</td>\n",
       "      <td>NaN</td>\n",
       "      <td>NaN</td>\n",
       "      <td>NaN</td>\n",
       "      <td>NaN</td>\n",
       "      <td>NaN</td>\n",
       "      <td>NaN</td>\n",
       "      <td>NaN</td>\n",
       "      <td>NaN</td>\n",
       "    </tr>\n",
       "    <tr>\n",
       "      <th>4</th>\n",
       "      <td>0</td>\n",
       "      <td>1700</td>\n",
       "      <td>97800.0</td>\n",
       "      <td>112000.0</td>\n",
       "      <td>HomeImp</td>\n",
       "      <td>Office</td>\n",
       "      <td>3.0</td>\n",
       "      <td>0.0</td>\n",
       "      <td>0.0</td>\n",
       "      <td>93.333333</td>\n",
       "      <td>0.0</td>\n",
       "      <td>14.0</td>\n",
       "      <td>NaN</td>\n",
       "    </tr>\n",
       "  </tbody>\n",
       "</table>\n",
       "</div>"
      ],
      "text/plain": [
       "   BAD  LOAN  MORTDUE     VALUE   REASON     JOB   YOJ  DEROG  DELINQ  \\\n",
       "0    1  1100  25860.0   39025.0  HomeImp   Other  10.5    0.0     0.0   \n",
       "1    1  1300  70053.0   68400.0  HomeImp   Other   7.0    0.0     2.0   \n",
       "2    1  1500  13500.0   16700.0  HomeImp   Other   4.0    0.0     0.0   \n",
       "3    1  1500      NaN       NaN      NaN     NaN   NaN    NaN     NaN   \n",
       "4    0  1700  97800.0  112000.0  HomeImp  Office   3.0    0.0     0.0   \n",
       "\n",
       "        CLAGE  NINQ  CLNO  DEBTINC  \n",
       "0   94.366667   1.0   9.0      NaN  \n",
       "1  121.833333   0.0  14.0      NaN  \n",
       "2  149.466667   1.0  10.0      NaN  \n",
       "3         NaN   NaN   NaN      NaN  \n",
       "4   93.333333   0.0  14.0      NaN  "
      ]
     },
     "execution_count": 2,
     "metadata": {},
     "output_type": "execute_result"
    }
   ],
   "source": [
    "# load data\n",
    "df = pd.read_csv('https://raw.githubusercontent.com/Carl-Lejerskar/HMEQ/master/hmeq.csv')\n",
    "df.head()"
   ]
  },
  {
   "cell_type": "code",
   "execution_count": 3,
   "metadata": {
    "colab": {
     "base_uri": "https://localhost:8080/",
     "height": 357
    },
    "colab_type": "code",
    "id": "D-Cff8AWFLci",
    "outputId": "a98879e3-b020-4ec9-bb44-146a98e0bbb7"
   },
   "outputs": [
    {
     "name": "stdout",
     "output_type": "stream",
     "text": [
      "<class 'pandas.core.frame.DataFrame'>\n",
      "RangeIndex: 5960 entries, 0 to 5959\n",
      "Data columns (total 13 columns):\n",
      " #   Column   Non-Null Count  Dtype  \n",
      "---  ------   --------------  -----  \n",
      " 0   BAD      5960 non-null   int64  \n",
      " 1   LOAN     5960 non-null   int64  \n",
      " 2   MORTDUE  5442 non-null   float64\n",
      " 3   VALUE    5848 non-null   float64\n",
      " 4   REASON   5708 non-null   object \n",
      " 5   JOB      5681 non-null   object \n",
      " 6   YOJ      5445 non-null   float64\n",
      " 7   DEROG    5252 non-null   float64\n",
      " 8   DELINQ   5380 non-null   float64\n",
      " 9   CLAGE    5652 non-null   float64\n",
      " 10  NINQ     5450 non-null   float64\n",
      " 11  CLNO     5738 non-null   float64\n",
      " 12  DEBTINC  4693 non-null   float64\n",
      "dtypes: float64(9), int64(2), object(2)\n",
      "memory usage: 605.4+ KB\n"
     ]
    }
   ],
   "source": [
    "df.info()"
   ]
  },
  {
   "cell_type": "code",
   "execution_count": 4,
   "metadata": {
    "colab": {
     "base_uri": "https://localhost:8080/",
     "height": 82
    },
    "colab_type": "code",
    "id": "dpbBKAEXFXJ9",
    "outputId": "480213ed-bd7d-4ea0-e6e8-04c9659ec867"
   },
   "outputs": [
    {
     "data": {
      "text/html": [
       "<style  type=\"text/css\" >\n",
       "</style><table id=\"T_8091084a_cde6_11ea_ace1_5cea1d47248e\" ><thead>    <tr>        <th class=\"blank level0\" ></th>        <th class=\"col_heading level0 col0\" >BAD</th>        <th class=\"col_heading level0 col1\" >count</th>        <th class=\"col_heading level0 col2\" >percent</th>        <th class=\"col_heading level0 col3\" >cumulative_count</th>        <th class=\"col_heading level0 col4\" >cumulative_percent</th>    </tr></thead><tbody>\n",
       "                <tr>\n",
       "                        <th id=\"T_8091084a_cde6_11ea_ace1_5cea1d47248elevel0_row0\" class=\"row_heading level0 row0\" >0</th>\n",
       "                        <td id=\"T_8091084a_cde6_11ea_ace1_5cea1d47248erow0_col0\" class=\"data row0 col0\" >0</td>\n",
       "                        <td id=\"T_8091084a_cde6_11ea_ace1_5cea1d47248erow0_col1\" class=\"data row0 col1\" >4,771</td>\n",
       "                        <td id=\"T_8091084a_cde6_11ea_ace1_5cea1d47248erow0_col2\" class=\"data row0 col2\" >80.05%</td>\n",
       "                        <td id=\"T_8091084a_cde6_11ea_ace1_5cea1d47248erow0_col3\" class=\"data row0 col3\" >4,771</td>\n",
       "                        <td id=\"T_8091084a_cde6_11ea_ace1_5cea1d47248erow0_col4\" class=\"data row0 col4\" >80.05%</td>\n",
       "            </tr>\n",
       "            <tr>\n",
       "                        <th id=\"T_8091084a_cde6_11ea_ace1_5cea1d47248elevel0_row1\" class=\"row_heading level0 row1\" >1</th>\n",
       "                        <td id=\"T_8091084a_cde6_11ea_ace1_5cea1d47248erow1_col0\" class=\"data row1 col0\" >1</td>\n",
       "                        <td id=\"T_8091084a_cde6_11ea_ace1_5cea1d47248erow1_col1\" class=\"data row1 col1\" >1,189</td>\n",
       "                        <td id=\"T_8091084a_cde6_11ea_ace1_5cea1d47248erow1_col2\" class=\"data row1 col2\" >19.95%</td>\n",
       "                        <td id=\"T_8091084a_cde6_11ea_ace1_5cea1d47248erow1_col3\" class=\"data row1 col3\" >5,960</td>\n",
       "                        <td id=\"T_8091084a_cde6_11ea_ace1_5cea1d47248erow1_col4\" class=\"data row1 col4\" >100.00%</td>\n",
       "            </tr>\n",
       "    </tbody></table>"
      ],
      "text/plain": [
       "<pandas.io.formats.style.Styler at 0x200ee0fbba8>"
      ]
     },
     "execution_count": 4,
     "metadata": {},
     "output_type": "execute_result"
    }
   ],
   "source": [
    "# check target balance (BAD)\n",
    "df.stb.freq(['BAD'], style = True)"
   ]
  },
  {
   "cell_type": "code",
   "execution_count": 5,
   "metadata": {
    "colab": {
     "base_uri": "https://localhost:8080/",
     "height": 82
    },
    "colab_type": "code",
    "id": "nyikUtufFP7Y",
    "outputId": "add77f06-9248-48ea-fd70-47fbd990a2d6"
   },
   "outputs": [
    {
     "data": {
      "text/html": [
       "<style  type=\"text/css\" >\n",
       "</style><table id=\"T_8095ccb4_cde6_11ea_838e_5cea1d47248e\" ><thead>    <tr>        <th class=\"blank level0\" ></th>        <th class=\"col_heading level0 col0\" >REASON</th>        <th class=\"col_heading level0 col1\" >count</th>        <th class=\"col_heading level0 col2\" >percent</th>        <th class=\"col_heading level0 col3\" >cumulative_count</th>        <th class=\"col_heading level0 col4\" >cumulative_percent</th>    </tr></thead><tbody>\n",
       "                <tr>\n",
       "                        <th id=\"T_8095ccb4_cde6_11ea_838e_5cea1d47248elevel0_row0\" class=\"row_heading level0 row0\" >0</th>\n",
       "                        <td id=\"T_8095ccb4_cde6_11ea_838e_5cea1d47248erow0_col0\" class=\"data row0 col0\" >DebtCon</td>\n",
       "                        <td id=\"T_8095ccb4_cde6_11ea_838e_5cea1d47248erow0_col1\" class=\"data row0 col1\" >3,928</td>\n",
       "                        <td id=\"T_8095ccb4_cde6_11ea_838e_5cea1d47248erow0_col2\" class=\"data row0 col2\" >68.82%</td>\n",
       "                        <td id=\"T_8095ccb4_cde6_11ea_838e_5cea1d47248erow0_col3\" class=\"data row0 col3\" >3,928</td>\n",
       "                        <td id=\"T_8095ccb4_cde6_11ea_838e_5cea1d47248erow0_col4\" class=\"data row0 col4\" >68.82%</td>\n",
       "            </tr>\n",
       "            <tr>\n",
       "                        <th id=\"T_8095ccb4_cde6_11ea_838e_5cea1d47248elevel0_row1\" class=\"row_heading level0 row1\" >1</th>\n",
       "                        <td id=\"T_8095ccb4_cde6_11ea_838e_5cea1d47248erow1_col0\" class=\"data row1 col0\" >HomeImp</td>\n",
       "                        <td id=\"T_8095ccb4_cde6_11ea_838e_5cea1d47248erow1_col1\" class=\"data row1 col1\" >1,780</td>\n",
       "                        <td id=\"T_8095ccb4_cde6_11ea_838e_5cea1d47248erow1_col2\" class=\"data row1 col2\" >31.18%</td>\n",
       "                        <td id=\"T_8095ccb4_cde6_11ea_838e_5cea1d47248erow1_col3\" class=\"data row1 col3\" >5,708</td>\n",
       "                        <td id=\"T_8095ccb4_cde6_11ea_838e_5cea1d47248erow1_col4\" class=\"data row1 col4\" >100.00%</td>\n",
       "            </tr>\n",
       "    </tbody></table>"
      ],
      "text/plain": [
       "<pandas.io.formats.style.Styler at 0x200f2fbc828>"
      ]
     },
     "execution_count": 5,
     "metadata": {},
     "output_type": "execute_result"
    }
   ],
   "source": [
    "# REASON - check categories\n",
    "df.stb.freq(['REASON'], style = True)"
   ]
  },
  {
   "cell_type": "code",
   "execution_count": 6,
   "metadata": {
    "colab": {
     "base_uri": "https://localhost:8080/",
     "height": 166
    },
    "colab_type": "code",
    "id": "E6hHhJFnFhVR",
    "outputId": "153d8c64-fe4e-40ee-b477-0df5efc7c2f0"
   },
   "outputs": [
    {
     "data": {
      "text/html": [
       "<style  type=\"text/css\" >\n",
       "</style><table id=\"T_80b88850_cde6_11ea_8c1a_5cea1d47248e\" ><thead>    <tr>        <th class=\"blank level0\" ></th>        <th class=\"col_heading level0 col0\" >JOB</th>        <th class=\"col_heading level0 col1\" >count</th>        <th class=\"col_heading level0 col2\" >percent</th>        <th class=\"col_heading level0 col3\" >cumulative_count</th>        <th class=\"col_heading level0 col4\" >cumulative_percent</th>    </tr></thead><tbody>\n",
       "                <tr>\n",
       "                        <th id=\"T_80b88850_cde6_11ea_8c1a_5cea1d47248elevel0_row0\" class=\"row_heading level0 row0\" >0</th>\n",
       "                        <td id=\"T_80b88850_cde6_11ea_8c1a_5cea1d47248erow0_col0\" class=\"data row0 col0\" >Other</td>\n",
       "                        <td id=\"T_80b88850_cde6_11ea_8c1a_5cea1d47248erow0_col1\" class=\"data row0 col1\" >2,388</td>\n",
       "                        <td id=\"T_80b88850_cde6_11ea_8c1a_5cea1d47248erow0_col2\" class=\"data row0 col2\" >42.03%</td>\n",
       "                        <td id=\"T_80b88850_cde6_11ea_8c1a_5cea1d47248erow0_col3\" class=\"data row0 col3\" >2,388</td>\n",
       "                        <td id=\"T_80b88850_cde6_11ea_8c1a_5cea1d47248erow0_col4\" class=\"data row0 col4\" >42.03%</td>\n",
       "            </tr>\n",
       "            <tr>\n",
       "                        <th id=\"T_80b88850_cde6_11ea_8c1a_5cea1d47248elevel0_row1\" class=\"row_heading level0 row1\" >1</th>\n",
       "                        <td id=\"T_80b88850_cde6_11ea_8c1a_5cea1d47248erow1_col0\" class=\"data row1 col0\" >ProfExe</td>\n",
       "                        <td id=\"T_80b88850_cde6_11ea_8c1a_5cea1d47248erow1_col1\" class=\"data row1 col1\" >1,276</td>\n",
       "                        <td id=\"T_80b88850_cde6_11ea_8c1a_5cea1d47248erow1_col2\" class=\"data row1 col2\" >22.46%</td>\n",
       "                        <td id=\"T_80b88850_cde6_11ea_8c1a_5cea1d47248erow1_col3\" class=\"data row1 col3\" >3,664</td>\n",
       "                        <td id=\"T_80b88850_cde6_11ea_8c1a_5cea1d47248erow1_col4\" class=\"data row1 col4\" >64.50%</td>\n",
       "            </tr>\n",
       "            <tr>\n",
       "                        <th id=\"T_80b88850_cde6_11ea_8c1a_5cea1d47248elevel0_row2\" class=\"row_heading level0 row2\" >2</th>\n",
       "                        <td id=\"T_80b88850_cde6_11ea_8c1a_5cea1d47248erow2_col0\" class=\"data row2 col0\" >Office</td>\n",
       "                        <td id=\"T_80b88850_cde6_11ea_8c1a_5cea1d47248erow2_col1\" class=\"data row2 col1\" >948</td>\n",
       "                        <td id=\"T_80b88850_cde6_11ea_8c1a_5cea1d47248erow2_col2\" class=\"data row2 col2\" >16.69%</td>\n",
       "                        <td id=\"T_80b88850_cde6_11ea_8c1a_5cea1d47248erow2_col3\" class=\"data row2 col3\" >4,612</td>\n",
       "                        <td id=\"T_80b88850_cde6_11ea_8c1a_5cea1d47248erow2_col4\" class=\"data row2 col4\" >81.18%</td>\n",
       "            </tr>\n",
       "            <tr>\n",
       "                        <th id=\"T_80b88850_cde6_11ea_8c1a_5cea1d47248elevel0_row3\" class=\"row_heading level0 row3\" >3</th>\n",
       "                        <td id=\"T_80b88850_cde6_11ea_8c1a_5cea1d47248erow3_col0\" class=\"data row3 col0\" >Mgr</td>\n",
       "                        <td id=\"T_80b88850_cde6_11ea_8c1a_5cea1d47248erow3_col1\" class=\"data row3 col1\" >767</td>\n",
       "                        <td id=\"T_80b88850_cde6_11ea_8c1a_5cea1d47248erow3_col2\" class=\"data row3 col2\" >13.50%</td>\n",
       "                        <td id=\"T_80b88850_cde6_11ea_8c1a_5cea1d47248erow3_col3\" class=\"data row3 col3\" >5,379</td>\n",
       "                        <td id=\"T_80b88850_cde6_11ea_8c1a_5cea1d47248erow3_col4\" class=\"data row3 col4\" >94.68%</td>\n",
       "            </tr>\n",
       "            <tr>\n",
       "                        <th id=\"T_80b88850_cde6_11ea_8c1a_5cea1d47248elevel0_row4\" class=\"row_heading level0 row4\" >4</th>\n",
       "                        <td id=\"T_80b88850_cde6_11ea_8c1a_5cea1d47248erow4_col0\" class=\"data row4 col0\" >Self</td>\n",
       "                        <td id=\"T_80b88850_cde6_11ea_8c1a_5cea1d47248erow4_col1\" class=\"data row4 col1\" >193</td>\n",
       "                        <td id=\"T_80b88850_cde6_11ea_8c1a_5cea1d47248erow4_col2\" class=\"data row4 col2\" >3.40%</td>\n",
       "                        <td id=\"T_80b88850_cde6_11ea_8c1a_5cea1d47248erow4_col3\" class=\"data row4 col3\" >5,572</td>\n",
       "                        <td id=\"T_80b88850_cde6_11ea_8c1a_5cea1d47248erow4_col4\" class=\"data row4 col4\" >98.08%</td>\n",
       "            </tr>\n",
       "            <tr>\n",
       "                        <th id=\"T_80b88850_cde6_11ea_8c1a_5cea1d47248elevel0_row5\" class=\"row_heading level0 row5\" >5</th>\n",
       "                        <td id=\"T_80b88850_cde6_11ea_8c1a_5cea1d47248erow5_col0\" class=\"data row5 col0\" >Sales</td>\n",
       "                        <td id=\"T_80b88850_cde6_11ea_8c1a_5cea1d47248erow5_col1\" class=\"data row5 col1\" >109</td>\n",
       "                        <td id=\"T_80b88850_cde6_11ea_8c1a_5cea1d47248erow5_col2\" class=\"data row5 col2\" >1.92%</td>\n",
       "                        <td id=\"T_80b88850_cde6_11ea_8c1a_5cea1d47248erow5_col3\" class=\"data row5 col3\" >5,681</td>\n",
       "                        <td id=\"T_80b88850_cde6_11ea_8c1a_5cea1d47248erow5_col4\" class=\"data row5 col4\" >100.00%</td>\n",
       "            </tr>\n",
       "    </tbody></table>"
      ],
      "text/plain": [
       "<pandas.io.formats.style.Styler at 0x200f2f92fd0>"
      ]
     },
     "execution_count": 6,
     "metadata": {},
     "output_type": "execute_result"
    }
   ],
   "source": [
    "# JOB - check categories\n",
    "df.stb.freq(['JOB'], style = True)"
   ]
  },
  {
   "cell_type": "code",
   "execution_count": 7,
   "metadata": {
    "colab": {
     "base_uri": "https://localhost:8080/",
     "height": 297
    },
    "colab_type": "code",
    "id": "qh4pUDhpFo4M",
    "outputId": "71d9280d-2107-47c5-ddee-251e0e202092"
   },
   "outputs": [
    {
     "data": {
      "text/html": [
       "<div>\n",
       "<style scoped>\n",
       "    .dataframe tbody tr th:only-of-type {\n",
       "        vertical-align: middle;\n",
       "    }\n",
       "\n",
       "    .dataframe tbody tr th {\n",
       "        vertical-align: top;\n",
       "    }\n",
       "\n",
       "    .dataframe thead th {\n",
       "        text-align: right;\n",
       "    }\n",
       "</style>\n",
       "<table border=\"1\" class=\"dataframe\">\n",
       "  <thead>\n",
       "    <tr style=\"text-align: right;\">\n",
       "      <th></th>\n",
       "      <th>BAD</th>\n",
       "      <th>LOAN</th>\n",
       "      <th>MORTDUE</th>\n",
       "      <th>VALUE</th>\n",
       "      <th>YOJ</th>\n",
       "      <th>DEROG</th>\n",
       "      <th>DELINQ</th>\n",
       "      <th>CLAGE</th>\n",
       "      <th>NINQ</th>\n",
       "      <th>CLNO</th>\n",
       "      <th>DEBTINC</th>\n",
       "    </tr>\n",
       "  </thead>\n",
       "  <tbody>\n",
       "    <tr>\n",
       "      <th>count</th>\n",
       "      <td>5960.000000</td>\n",
       "      <td>5960.000000</td>\n",
       "      <td>5442.000000</td>\n",
       "      <td>5848.000000</td>\n",
       "      <td>5445.000000</td>\n",
       "      <td>5252.000000</td>\n",
       "      <td>5380.000000</td>\n",
       "      <td>5652.000000</td>\n",
       "      <td>5450.000000</td>\n",
       "      <td>5738.000000</td>\n",
       "      <td>4693.000000</td>\n",
       "    </tr>\n",
       "    <tr>\n",
       "      <th>mean</th>\n",
       "      <td>0.199497</td>\n",
       "      <td>18607.969799</td>\n",
       "      <td>73760.817200</td>\n",
       "      <td>101776.048741</td>\n",
       "      <td>8.922268</td>\n",
       "      <td>0.254570</td>\n",
       "      <td>0.449442</td>\n",
       "      <td>179.766275</td>\n",
       "      <td>1.186055</td>\n",
       "      <td>21.296096</td>\n",
       "      <td>33.779915</td>\n",
       "    </tr>\n",
       "    <tr>\n",
       "      <th>std</th>\n",
       "      <td>0.399656</td>\n",
       "      <td>11207.480417</td>\n",
       "      <td>44457.609458</td>\n",
       "      <td>57385.775334</td>\n",
       "      <td>7.573982</td>\n",
       "      <td>0.846047</td>\n",
       "      <td>1.127266</td>\n",
       "      <td>85.810092</td>\n",
       "      <td>1.728675</td>\n",
       "      <td>10.138933</td>\n",
       "      <td>8.601746</td>\n",
       "    </tr>\n",
       "    <tr>\n",
       "      <th>min</th>\n",
       "      <td>0.000000</td>\n",
       "      <td>1100.000000</td>\n",
       "      <td>2063.000000</td>\n",
       "      <td>8000.000000</td>\n",
       "      <td>0.000000</td>\n",
       "      <td>0.000000</td>\n",
       "      <td>0.000000</td>\n",
       "      <td>0.000000</td>\n",
       "      <td>0.000000</td>\n",
       "      <td>0.000000</td>\n",
       "      <td>0.524499</td>\n",
       "    </tr>\n",
       "    <tr>\n",
       "      <th>25%</th>\n",
       "      <td>0.000000</td>\n",
       "      <td>11100.000000</td>\n",
       "      <td>46276.000000</td>\n",
       "      <td>66075.500000</td>\n",
       "      <td>3.000000</td>\n",
       "      <td>0.000000</td>\n",
       "      <td>0.000000</td>\n",
       "      <td>115.116702</td>\n",
       "      <td>0.000000</td>\n",
       "      <td>15.000000</td>\n",
       "      <td>29.140031</td>\n",
       "    </tr>\n",
       "    <tr>\n",
       "      <th>50%</th>\n",
       "      <td>0.000000</td>\n",
       "      <td>16300.000000</td>\n",
       "      <td>65019.000000</td>\n",
       "      <td>89235.500000</td>\n",
       "      <td>7.000000</td>\n",
       "      <td>0.000000</td>\n",
       "      <td>0.000000</td>\n",
       "      <td>173.466667</td>\n",
       "      <td>1.000000</td>\n",
       "      <td>20.000000</td>\n",
       "      <td>34.818262</td>\n",
       "    </tr>\n",
       "    <tr>\n",
       "      <th>75%</th>\n",
       "      <td>0.000000</td>\n",
       "      <td>23300.000000</td>\n",
       "      <td>91488.000000</td>\n",
       "      <td>119824.250000</td>\n",
       "      <td>13.000000</td>\n",
       "      <td>0.000000</td>\n",
       "      <td>0.000000</td>\n",
       "      <td>231.562278</td>\n",
       "      <td>2.000000</td>\n",
       "      <td>26.000000</td>\n",
       "      <td>39.003141</td>\n",
       "    </tr>\n",
       "    <tr>\n",
       "      <th>max</th>\n",
       "      <td>1.000000</td>\n",
       "      <td>89900.000000</td>\n",
       "      <td>399550.000000</td>\n",
       "      <td>855909.000000</td>\n",
       "      <td>41.000000</td>\n",
       "      <td>10.000000</td>\n",
       "      <td>15.000000</td>\n",
       "      <td>1168.233561</td>\n",
       "      <td>17.000000</td>\n",
       "      <td>71.000000</td>\n",
       "      <td>203.312149</td>\n",
       "    </tr>\n",
       "  </tbody>\n",
       "</table>\n",
       "</div>"
      ],
      "text/plain": [
       "               BAD          LOAN        MORTDUE          VALUE          YOJ  \\\n",
       "count  5960.000000   5960.000000    5442.000000    5848.000000  5445.000000   \n",
       "mean      0.199497  18607.969799   73760.817200  101776.048741     8.922268   \n",
       "std       0.399656  11207.480417   44457.609458   57385.775334     7.573982   \n",
       "min       0.000000   1100.000000    2063.000000    8000.000000     0.000000   \n",
       "25%       0.000000  11100.000000   46276.000000   66075.500000     3.000000   \n",
       "50%       0.000000  16300.000000   65019.000000   89235.500000     7.000000   \n",
       "75%       0.000000  23300.000000   91488.000000  119824.250000    13.000000   \n",
       "max       1.000000  89900.000000  399550.000000  855909.000000    41.000000   \n",
       "\n",
       "             DEROG       DELINQ        CLAGE         NINQ         CLNO  \\\n",
       "count  5252.000000  5380.000000  5652.000000  5450.000000  5738.000000   \n",
       "mean      0.254570     0.449442   179.766275     1.186055    21.296096   \n",
       "std       0.846047     1.127266    85.810092     1.728675    10.138933   \n",
       "min       0.000000     0.000000     0.000000     0.000000     0.000000   \n",
       "25%       0.000000     0.000000   115.116702     0.000000    15.000000   \n",
       "50%       0.000000     0.000000   173.466667     1.000000    20.000000   \n",
       "75%       0.000000     0.000000   231.562278     2.000000    26.000000   \n",
       "max      10.000000    15.000000  1168.233561    17.000000    71.000000   \n",
       "\n",
       "           DEBTINC  \n",
       "count  4693.000000  \n",
       "mean     33.779915  \n",
       "std       8.601746  \n",
       "min       0.524499  \n",
       "25%      29.140031  \n",
       "50%      34.818262  \n",
       "75%      39.003141  \n",
       "max     203.312149  "
      ]
     },
     "execution_count": 7,
     "metadata": {},
     "output_type": "execute_result"
    }
   ],
   "source": [
    "# Check numeric variables\n",
    "df.describe()"
   ]
  },
  {
   "cell_type": "code",
   "execution_count": 8,
   "metadata": {
    "colab": {
     "base_uri": "https://localhost:8080/",
     "height": 452
    },
    "colab_type": "code",
    "id": "rOjFx1YqFwdp",
    "outputId": "840265cf-c717-44b6-e1cd-46911e88d1c3"
   },
   "outputs": [
    {
     "data": {
      "text/html": [
       "<div>\n",
       "<style scoped>\n",
       "    .dataframe tbody tr th:only-of-type {\n",
       "        vertical-align: middle;\n",
       "    }\n",
       "\n",
       "    .dataframe tbody tr th {\n",
       "        vertical-align: top;\n",
       "    }\n",
       "\n",
       "    .dataframe thead th {\n",
       "        text-align: right;\n",
       "    }\n",
       "</style>\n",
       "<table border=\"1\" class=\"dataframe\">\n",
       "  <thead>\n",
       "    <tr style=\"text-align: right;\">\n",
       "      <th></th>\n",
       "      <th>missing</th>\n",
       "      <th>total</th>\n",
       "      <th>percent</th>\n",
       "    </tr>\n",
       "  </thead>\n",
       "  <tbody>\n",
       "    <tr>\n",
       "      <th>DEBTINC</th>\n",
       "      <td>1267</td>\n",
       "      <td>5960</td>\n",
       "      <td>21.258389</td>\n",
       "    </tr>\n",
       "    <tr>\n",
       "      <th>DEROG</th>\n",
       "      <td>708</td>\n",
       "      <td>5960</td>\n",
       "      <td>11.879195</td>\n",
       "    </tr>\n",
       "    <tr>\n",
       "      <th>DELINQ</th>\n",
       "      <td>580</td>\n",
       "      <td>5960</td>\n",
       "      <td>9.731544</td>\n",
       "    </tr>\n",
       "    <tr>\n",
       "      <th>MORTDUE</th>\n",
       "      <td>518</td>\n",
       "      <td>5960</td>\n",
       "      <td>8.691275</td>\n",
       "    </tr>\n",
       "    <tr>\n",
       "      <th>YOJ</th>\n",
       "      <td>515</td>\n",
       "      <td>5960</td>\n",
       "      <td>8.640940</td>\n",
       "    </tr>\n",
       "    <tr>\n",
       "      <th>NINQ</th>\n",
       "      <td>510</td>\n",
       "      <td>5960</td>\n",
       "      <td>8.557047</td>\n",
       "    </tr>\n",
       "    <tr>\n",
       "      <th>CLAGE</th>\n",
       "      <td>308</td>\n",
       "      <td>5960</td>\n",
       "      <td>5.167785</td>\n",
       "    </tr>\n",
       "    <tr>\n",
       "      <th>JOB</th>\n",
       "      <td>279</td>\n",
       "      <td>5960</td>\n",
       "      <td>4.681208</td>\n",
       "    </tr>\n",
       "    <tr>\n",
       "      <th>REASON</th>\n",
       "      <td>252</td>\n",
       "      <td>5960</td>\n",
       "      <td>4.228188</td>\n",
       "    </tr>\n",
       "    <tr>\n",
       "      <th>CLNO</th>\n",
       "      <td>222</td>\n",
       "      <td>5960</td>\n",
       "      <td>3.724832</td>\n",
       "    </tr>\n",
       "    <tr>\n",
       "      <th>VALUE</th>\n",
       "      <td>112</td>\n",
       "      <td>5960</td>\n",
       "      <td>1.879195</td>\n",
       "    </tr>\n",
       "    <tr>\n",
       "      <th>BAD</th>\n",
       "      <td>0</td>\n",
       "      <td>5960</td>\n",
       "      <td>0.000000</td>\n",
       "    </tr>\n",
       "    <tr>\n",
       "      <th>LOAN</th>\n",
       "      <td>0</td>\n",
       "      <td>5960</td>\n",
       "      <td>0.000000</td>\n",
       "    </tr>\n",
       "  </tbody>\n",
       "</table>\n",
       "</div>"
      ],
      "text/plain": [
       "         missing  total    percent\n",
       "DEBTINC     1267   5960  21.258389\n",
       "DEROG        708   5960  11.879195\n",
       "DELINQ       580   5960   9.731544\n",
       "MORTDUE      518   5960   8.691275\n",
       "YOJ          515   5960   8.640940\n",
       "NINQ         510   5960   8.557047\n",
       "CLAGE        308   5960   5.167785\n",
       "JOB          279   5960   4.681208\n",
       "REASON       252   5960   4.228188\n",
       "CLNO         222   5960   3.724832\n",
       "VALUE        112   5960   1.879195\n",
       "BAD            0   5960   0.000000\n",
       "LOAN           0   5960   0.000000"
      ]
     },
     "execution_count": 8,
     "metadata": {},
     "output_type": "execute_result"
    }
   ],
   "source": [
    "# missing check\n",
    "df.stb.missing()"
   ]
  },
  {
   "cell_type": "markdown",
   "metadata": {
    "colab_type": "text",
    "id": "Be7nm7mEGhQ2"
   },
   "source": [
    "### Unvariate analysis\n"
   ]
  },
  {
   "cell_type": "code",
   "execution_count": 9,
   "metadata": {
    "colab": {
     "base_uri": "https://localhost:8080/",
     "height": 607
    },
    "colab_type": "code",
    "id": "cZoxyGLQFzi7",
    "outputId": "43952224-a380-49f5-efd1-dbcf7f082be5"
   },
   "outputs": [
    {
     "data": {
      "image/png": "[encoded data removed]",
      "text/plain": [
       "<Figure size 1080x720 with 12 Axes>"
      ]
     },
     "metadata": {
      "needs_background": "light"
     },
     "output_type": "display_data"
    }
   ],
   "source": [
    "# distribution plots - Histograms\n",
    "df_num = df.select_dtypes(include = ['float64', 'int64'])\n",
    "df_num.hist(figsize = (15, 10), bins = 50);"
   ]
  },
  {
   "cell_type": "markdown",
   "metadata": {
    "colab_type": "text",
    "id": "sQUjNADrHJX0"
   },
   "source": [
    "### Missing input"
   ]
  },
  {
   "cell_type": "code",
   "execution_count": 10,
   "metadata": {
    "colab": {},
    "colab_type": "code",
    "id": "qRft_hwgGodw"
   },
   "outputs": [],
   "source": [
    "# Jobs\n",
    "## Let's fill missing values with the residual category\n",
    "df['JOB'] = df['JOB'].fillna(value = 'Other')"
   ]
  },
  {
   "cell_type": "code",
   "execution_count": 11,
   "metadata": {
    "colab": {
     "base_uri": "https://localhost:8080/",
     "height": 166
    },
    "colab_type": "code",
    "id": "EAQMB27JHkvz",
    "outputId": "92b4b24c-064a-4e84-88f9-daf4b7d93ea4"
   },
   "outputs": [
    {
     "data": {
      "text/html": [
       "<style  type=\"text/css\" >\n",
       "</style><table id=\"T_8493015c_cde6_11ea_82fc_5cea1d47248e\" ><thead>    <tr>        <th class=\"blank level0\" ></th>        <th class=\"col_heading level0 col0\" >JOB</th>        <th class=\"col_heading level0 col1\" >count</th>        <th class=\"col_heading level0 col2\" >percent</th>        <th class=\"col_heading level0 col3\" >cumulative_count</th>        <th class=\"col_heading level0 col4\" >cumulative_percent</th>    </tr></thead><tbody>\n",
       "                <tr>\n",
       "                        <th id=\"T_8493015c_cde6_11ea_82fc_5cea1d47248elevel0_row0\" class=\"row_heading level0 row0\" >0</th>\n",
       "                        <td id=\"T_8493015c_cde6_11ea_82fc_5cea1d47248erow0_col0\" class=\"data row0 col0\" >Other</td>\n",
       "                        <td id=\"T_8493015c_cde6_11ea_82fc_5cea1d47248erow0_col1\" class=\"data row0 col1\" >2,667</td>\n",
       "                        <td id=\"T_8493015c_cde6_11ea_82fc_5cea1d47248erow0_col2\" class=\"data row0 col2\" >44.75%</td>\n",
       "                        <td id=\"T_8493015c_cde6_11ea_82fc_5cea1d47248erow0_col3\" class=\"data row0 col3\" >2,667</td>\n",
       "                        <td id=\"T_8493015c_cde6_11ea_82fc_5cea1d47248erow0_col4\" class=\"data row0 col4\" >44.75%</td>\n",
       "            </tr>\n",
       "            <tr>\n",
       "                        <th id=\"T_8493015c_cde6_11ea_82fc_5cea1d47248elevel0_row1\" class=\"row_heading level0 row1\" >1</th>\n",
       "                        <td id=\"T_8493015c_cde6_11ea_82fc_5cea1d47248erow1_col0\" class=\"data row1 col0\" >ProfExe</td>\n",
       "                        <td id=\"T_8493015c_cde6_11ea_82fc_5cea1d47248erow1_col1\" class=\"data row1 col1\" >1,276</td>\n",
       "                        <td id=\"T_8493015c_cde6_11ea_82fc_5cea1d47248erow1_col2\" class=\"data row1 col2\" >21.41%</td>\n",
       "                        <td id=\"T_8493015c_cde6_11ea_82fc_5cea1d47248erow1_col3\" class=\"data row1 col3\" >3,943</td>\n",
       "                        <td id=\"T_8493015c_cde6_11ea_82fc_5cea1d47248erow1_col4\" class=\"data row1 col4\" >66.16%</td>\n",
       "            </tr>\n",
       "            <tr>\n",
       "                        <th id=\"T_8493015c_cde6_11ea_82fc_5cea1d47248elevel0_row2\" class=\"row_heading level0 row2\" >2</th>\n",
       "                        <td id=\"T_8493015c_cde6_11ea_82fc_5cea1d47248erow2_col0\" class=\"data row2 col0\" >Office</td>\n",
       "                        <td id=\"T_8493015c_cde6_11ea_82fc_5cea1d47248erow2_col1\" class=\"data row2 col1\" >948</td>\n",
       "                        <td id=\"T_8493015c_cde6_11ea_82fc_5cea1d47248erow2_col2\" class=\"data row2 col2\" >15.91%</td>\n",
       "                        <td id=\"T_8493015c_cde6_11ea_82fc_5cea1d47248erow2_col3\" class=\"data row2 col3\" >4,891</td>\n",
       "                        <td id=\"T_8493015c_cde6_11ea_82fc_5cea1d47248erow2_col4\" class=\"data row2 col4\" >82.06%</td>\n",
       "            </tr>\n",
       "            <tr>\n",
       "                        <th id=\"T_8493015c_cde6_11ea_82fc_5cea1d47248elevel0_row3\" class=\"row_heading level0 row3\" >3</th>\n",
       "                        <td id=\"T_8493015c_cde6_11ea_82fc_5cea1d47248erow3_col0\" class=\"data row3 col0\" >Mgr</td>\n",
       "                        <td id=\"T_8493015c_cde6_11ea_82fc_5cea1d47248erow3_col1\" class=\"data row3 col1\" >767</td>\n",
       "                        <td id=\"T_8493015c_cde6_11ea_82fc_5cea1d47248erow3_col2\" class=\"data row3 col2\" >12.87%</td>\n",
       "                        <td id=\"T_8493015c_cde6_11ea_82fc_5cea1d47248erow3_col3\" class=\"data row3 col3\" >5,658</td>\n",
       "                        <td id=\"T_8493015c_cde6_11ea_82fc_5cea1d47248erow3_col4\" class=\"data row3 col4\" >94.93%</td>\n",
       "            </tr>\n",
       "            <tr>\n",
       "                        <th id=\"T_8493015c_cde6_11ea_82fc_5cea1d47248elevel0_row4\" class=\"row_heading level0 row4\" >4</th>\n",
       "                        <td id=\"T_8493015c_cde6_11ea_82fc_5cea1d47248erow4_col0\" class=\"data row4 col0\" >Self</td>\n",
       "                        <td id=\"T_8493015c_cde6_11ea_82fc_5cea1d47248erow4_col1\" class=\"data row4 col1\" >193</td>\n",
       "                        <td id=\"T_8493015c_cde6_11ea_82fc_5cea1d47248erow4_col2\" class=\"data row4 col2\" >3.24%</td>\n",
       "                        <td id=\"T_8493015c_cde6_11ea_82fc_5cea1d47248erow4_col3\" class=\"data row4 col3\" >5,851</td>\n",
       "                        <td id=\"T_8493015c_cde6_11ea_82fc_5cea1d47248erow4_col4\" class=\"data row4 col4\" >98.17%</td>\n",
       "            </tr>\n",
       "            <tr>\n",
       "                        <th id=\"T_8493015c_cde6_11ea_82fc_5cea1d47248elevel0_row5\" class=\"row_heading level0 row5\" >5</th>\n",
       "                        <td id=\"T_8493015c_cde6_11ea_82fc_5cea1d47248erow5_col0\" class=\"data row5 col0\" >Sales</td>\n",
       "                        <td id=\"T_8493015c_cde6_11ea_82fc_5cea1d47248erow5_col1\" class=\"data row5 col1\" >109</td>\n",
       "                        <td id=\"T_8493015c_cde6_11ea_82fc_5cea1d47248erow5_col2\" class=\"data row5 col2\" >1.83%</td>\n",
       "                        <td id=\"T_8493015c_cde6_11ea_82fc_5cea1d47248erow5_col3\" class=\"data row5 col3\" >5,960</td>\n",
       "                        <td id=\"T_8493015c_cde6_11ea_82fc_5cea1d47248erow5_col4\" class=\"data row5 col4\" >100.00%</td>\n",
       "            </tr>\n",
       "    </tbody></table>"
      ],
      "text/plain": [
       "<pandas.io.formats.style.Styler at 0x200f3b3d978>"
      ]
     },
     "execution_count": 11,
     "metadata": {},
     "output_type": "execute_result"
    }
   ],
   "source": [
    "df.stb.freq(['JOB'], style = True)"
   ]
  },
  {
   "cell_type": "code",
   "execution_count": 12,
   "metadata": {
    "colab": {},
    "colab_type": "code",
    "id": "2gjdkVvDHm9I"
   },
   "outputs": [],
   "source": [
    "# Reason\n",
    "## We fill missing values with the most frequent value ('DebtCon')\n",
    "df['REASON'] = df['REASON'].fillna('DebtCon')"
   ]
  },
  {
   "cell_type": "code",
   "execution_count": 13,
   "metadata": {
    "colab": {
     "base_uri": "https://localhost:8080/",
     "height": 82
    },
    "colab_type": "code",
    "id": "PTJCgay_Hvch",
    "outputId": "75a2684e-e9b9-45a1-d350-67e7dcf3bca2"
   },
   "outputs": [
    {
     "data": {
      "text/html": [
       "<style  type=\"text/css\" >\n",
       "</style><table id=\"T_84d7f88a_cde6_11ea_8f52_5cea1d47248e\" ><thead>    <tr>        <th class=\"blank level0\" ></th>        <th class=\"col_heading level0 col0\" >REASON</th>        <th class=\"col_heading level0 col1\" >count</th>        <th class=\"col_heading level0 col2\" >percent</th>        <th class=\"col_heading level0 col3\" >cumulative_count</th>        <th class=\"col_heading level0 col4\" >cumulative_percent</th>    </tr></thead><tbody>\n",
       "                <tr>\n",
       "                        <th id=\"T_84d7f88a_cde6_11ea_8f52_5cea1d47248elevel0_row0\" class=\"row_heading level0 row0\" >0</th>\n",
       "                        <td id=\"T_84d7f88a_cde6_11ea_8f52_5cea1d47248erow0_col0\" class=\"data row0 col0\" >DebtCon</td>\n",
       "                        <td id=\"T_84d7f88a_cde6_11ea_8f52_5cea1d47248erow0_col1\" class=\"data row0 col1\" >4,180</td>\n",
       "                        <td id=\"T_84d7f88a_cde6_11ea_8f52_5cea1d47248erow0_col2\" class=\"data row0 col2\" >70.13%</td>\n",
       "                        <td id=\"T_84d7f88a_cde6_11ea_8f52_5cea1d47248erow0_col3\" class=\"data row0 col3\" >4,180</td>\n",
       "                        <td id=\"T_84d7f88a_cde6_11ea_8f52_5cea1d47248erow0_col4\" class=\"data row0 col4\" >70.13%</td>\n",
       "            </tr>\n",
       "            <tr>\n",
       "                        <th id=\"T_84d7f88a_cde6_11ea_8f52_5cea1d47248elevel0_row1\" class=\"row_heading level0 row1\" >1</th>\n",
       "                        <td id=\"T_84d7f88a_cde6_11ea_8f52_5cea1d47248erow1_col0\" class=\"data row1 col0\" >HomeImp</td>\n",
       "                        <td id=\"T_84d7f88a_cde6_11ea_8f52_5cea1d47248erow1_col1\" class=\"data row1 col1\" >1,780</td>\n",
       "                        <td id=\"T_84d7f88a_cde6_11ea_8f52_5cea1d47248erow1_col2\" class=\"data row1 col2\" >29.87%</td>\n",
       "                        <td id=\"T_84d7f88a_cde6_11ea_8f52_5cea1d47248erow1_col3\" class=\"data row1 col3\" >5,960</td>\n",
       "                        <td id=\"T_84d7f88a_cde6_11ea_8f52_5cea1d47248erow1_col4\" class=\"data row1 col4\" >100.00%</td>\n",
       "            </tr>\n",
       "    </tbody></table>"
      ],
      "text/plain": [
       "<pandas.io.formats.style.Styler at 0x200f38e9f28>"
      ]
     },
     "execution_count": 13,
     "metadata": {},
     "output_type": "execute_result"
    }
   ],
   "source": [
    "df.stb.freq(['REASON'], style = True)"
   ]
  },
  {
   "cell_type": "code",
   "execution_count": 14,
   "metadata": {
    "colab": {},
    "colab_type": "code",
    "id": "bc7y36HcIJA-"
   },
   "outputs": [],
   "source": [
    "# numeric variables\n",
    "## we input missings with their median (given the outliers detected)\n",
    "df['DEBTINC'] = df['DEBTINC'].fillna(df['DEBTINC'].median())\n",
    "df['DEROG'] = df['DEROG'].fillna(df['DEROG'].median())\n",
    "df['DELINQ'] = df['DELINQ'].fillna(df['DELINQ'].median())\n",
    "df['MORTDUE'] = df['MORTDUE'].fillna(df['MORTDUE'].median())\n",
    "df['YOJ'] = df['YOJ'].fillna(df['YOJ'].median())\n",
    "df['NINQ'] = df['NINQ'].fillna(df['NINQ'].median())\n",
    "df['CLAGE'] = df['CLAGE'].fillna(df['CLAGE'].median())\n",
    "df['CLNO'] = df['CLNO'].fillna(df['CLNO'].median())\n",
    "df['VALUE'] = df['VALUE'].fillna(df['VALUE'].median())"
   ]
  },
  {
   "cell_type": "code",
   "execution_count": 15,
   "metadata": {
    "colab": {
     "base_uri": "https://localhost:8080/",
     "height": 452
    },
    "colab_type": "code",
    "id": "c7Br5ZftIQb6",
    "outputId": "e81d60ce-1eb7-4388-a7af-ce55528a0a01"
   },
   "outputs": [
    {
     "data": {
      "text/html": [
       "<div>\n",
       "<style scoped>\n",
       "    .dataframe tbody tr th:only-of-type {\n",
       "        vertical-align: middle;\n",
       "    }\n",
       "\n",
       "    .dataframe tbody tr th {\n",
       "        vertical-align: top;\n",
       "    }\n",
       "\n",
       "    .dataframe thead th {\n",
       "        text-align: right;\n",
       "    }\n",
       "</style>\n",
       "<table border=\"1\" class=\"dataframe\">\n",
       "  <thead>\n",
       "    <tr style=\"text-align: right;\">\n",
       "      <th></th>\n",
       "      <th>missing</th>\n",
       "      <th>total</th>\n",
       "      <th>percent</th>\n",
       "    </tr>\n",
       "  </thead>\n",
       "  <tbody>\n",
       "    <tr>\n",
       "      <th>BAD</th>\n",
       "      <td>0</td>\n",
       "      <td>5960</td>\n",
       "      <td>0.0</td>\n",
       "    </tr>\n",
       "    <tr>\n",
       "      <th>LOAN</th>\n",
       "      <td>0</td>\n",
       "      <td>5960</td>\n",
       "      <td>0.0</td>\n",
       "    </tr>\n",
       "    <tr>\n",
       "      <th>MORTDUE</th>\n",
       "      <td>0</td>\n",
       "      <td>5960</td>\n",
       "      <td>0.0</td>\n",
       "    </tr>\n",
       "    <tr>\n",
       "      <th>VALUE</th>\n",
       "      <td>0</td>\n",
       "      <td>5960</td>\n",
       "      <td>0.0</td>\n",
       "    </tr>\n",
       "    <tr>\n",
       "      <th>REASON</th>\n",
       "      <td>0</td>\n",
       "      <td>5960</td>\n",
       "      <td>0.0</td>\n",
       "    </tr>\n",
       "    <tr>\n",
       "      <th>JOB</th>\n",
       "      <td>0</td>\n",
       "      <td>5960</td>\n",
       "      <td>0.0</td>\n",
       "    </tr>\n",
       "    <tr>\n",
       "      <th>YOJ</th>\n",
       "      <td>0</td>\n",
       "      <td>5960</td>\n",
       "      <td>0.0</td>\n",
       "    </tr>\n",
       "    <tr>\n",
       "      <th>DEROG</th>\n",
       "      <td>0</td>\n",
       "      <td>5960</td>\n",
       "      <td>0.0</td>\n",
       "    </tr>\n",
       "    <tr>\n",
       "      <th>DELINQ</th>\n",
       "      <td>0</td>\n",
       "      <td>5960</td>\n",
       "      <td>0.0</td>\n",
       "    </tr>\n",
       "    <tr>\n",
       "      <th>CLAGE</th>\n",
       "      <td>0</td>\n",
       "      <td>5960</td>\n",
       "      <td>0.0</td>\n",
       "    </tr>\n",
       "    <tr>\n",
       "      <th>NINQ</th>\n",
       "      <td>0</td>\n",
       "      <td>5960</td>\n",
       "      <td>0.0</td>\n",
       "    </tr>\n",
       "    <tr>\n",
       "      <th>CLNO</th>\n",
       "      <td>0</td>\n",
       "      <td>5960</td>\n",
       "      <td>0.0</td>\n",
       "    </tr>\n",
       "    <tr>\n",
       "      <th>DEBTINC</th>\n",
       "      <td>0</td>\n",
       "      <td>5960</td>\n",
       "      <td>0.0</td>\n",
       "    </tr>\n",
       "  </tbody>\n",
       "</table>\n",
       "</div>"
      ],
      "text/plain": [
       "         missing  total  percent\n",
       "BAD            0   5960      0.0\n",
       "LOAN           0   5960      0.0\n",
       "MORTDUE        0   5960      0.0\n",
       "VALUE          0   5960      0.0\n",
       "REASON         0   5960      0.0\n",
       "JOB            0   5960      0.0\n",
       "YOJ            0   5960      0.0\n",
       "DEROG          0   5960      0.0\n",
       "DELINQ         0   5960      0.0\n",
       "CLAGE          0   5960      0.0\n",
       "NINQ           0   5960      0.0\n",
       "CLNO           0   5960      0.0\n",
       "DEBTINC        0   5960      0.0"
      ]
     },
     "execution_count": 15,
     "metadata": {},
     "output_type": "execute_result"
    }
   ],
   "source": [
    "# missing check\n",
    "df.stb.missing()"
   ]
  },
  {
   "cell_type": "markdown",
   "metadata": {
    "colab_type": "text",
    "id": "fgZViOMNIVUp"
   },
   "source": [
    "## Bivariate Analysis\n"
   ]
  },
  {
   "cell_type": "code",
   "execution_count": 16,
   "metadata": {
    "colab": {
     "base_uri": "https://localhost:8080/",
     "height": 390
    },
    "colab_type": "code",
    "id": "ZJh2u6tTIS1U",
    "outputId": "96562a93-34d1-4b61-bf0a-e4ad7d6cb088"
   },
   "outputs": [
    {
     "data": {
      "text/html": [
       "<div>\n",
       "<style scoped>\n",
       "    .dataframe tbody tr th:only-of-type {\n",
       "        vertical-align: middle;\n",
       "    }\n",
       "\n",
       "    .dataframe tbody tr th {\n",
       "        vertical-align: top;\n",
       "    }\n",
       "\n",
       "    .dataframe thead th {\n",
       "        text-align: right;\n",
       "    }\n",
       "</style>\n",
       "<table border=\"1\" class=\"dataframe\">\n",
       "  <thead>\n",
       "    <tr style=\"text-align: right;\">\n",
       "      <th></th>\n",
       "      <th>BAD</th>\n",
       "      <th>LOAN</th>\n",
       "      <th>MORTDUE</th>\n",
       "      <th>VALUE</th>\n",
       "      <th>YOJ</th>\n",
       "      <th>DEROG</th>\n",
       "      <th>DELINQ</th>\n",
       "      <th>CLAGE</th>\n",
       "      <th>NINQ</th>\n",
       "      <th>CLNO</th>\n",
       "      <th>DEBTINC</th>\n",
       "    </tr>\n",
       "  </thead>\n",
       "  <tbody>\n",
       "    <tr>\n",
       "      <th>BAD</th>\n",
       "      <td>1.000000</td>\n",
       "      <td>-0.075099</td>\n",
       "      <td>-0.046186</td>\n",
       "      <td>-0.036492</td>\n",
       "      <td>-0.053956</td>\n",
       "      <td>0.269921</td>\n",
       "      <td>0.346503</td>\n",
       "      <td>-0.165614</td>\n",
       "      <td>0.170031</td>\n",
       "      <td>-0.004543</td>\n",
       "      <td>0.154544</td>\n",
       "    </tr>\n",
       "    <tr>\n",
       "      <th>LOAN</th>\n",
       "      <td>-0.075099</td>\n",
       "      <td>1.000000</td>\n",
       "      <td>0.216380</td>\n",
       "      <td>0.331522</td>\n",
       "      <td>0.096878</td>\n",
       "      <td>0.006996</td>\n",
       "      <td>-0.028869</td>\n",
       "      <td>0.088237</td>\n",
       "      <td>0.045266</td>\n",
       "      <td>0.074317</td>\n",
       "      <td>0.068938</td>\n",
       "    </tr>\n",
       "    <tr>\n",
       "      <th>MORTDUE</th>\n",
       "      <td>-0.046186</td>\n",
       "      <td>0.216380</td>\n",
       "      <td>1.000000</td>\n",
       "      <td>0.788736</td>\n",
       "      <td>-0.076201</td>\n",
       "      <td>-0.047123</td>\n",
       "      <td>0.003580</td>\n",
       "      <td>0.129799</td>\n",
       "      <td>0.032582</td>\n",
       "      <td>0.318515</td>\n",
       "      <td>0.134575</td>\n",
       "    </tr>\n",
       "    <tr>\n",
       "      <th>VALUE</th>\n",
       "      <td>-0.036492</td>\n",
       "      <td>0.331522</td>\n",
       "      <td>0.788736</td>\n",
       "      <td>1.000000</td>\n",
       "      <td>0.013638</td>\n",
       "      <td>-0.043808</td>\n",
       "      <td>-0.008158</td>\n",
       "      <td>0.169536</td>\n",
       "      <td>-0.002539</td>\n",
       "      <td>0.265029</td>\n",
       "      <td>0.113080</td>\n",
       "    </tr>\n",
       "    <tr>\n",
       "      <th>YOJ</th>\n",
       "      <td>-0.053956</td>\n",
       "      <td>0.096878</td>\n",
       "      <td>-0.076201</td>\n",
       "      <td>0.013638</td>\n",
       "      <td>1.000000</td>\n",
       "      <td>-0.057729</td>\n",
       "      <td>0.051580</td>\n",
       "      <td>0.186203</td>\n",
       "      <td>-0.062837</td>\n",
       "      <td>0.032815</td>\n",
       "      <td>-0.046482</td>\n",
       "    </tr>\n",
       "    <tr>\n",
       "      <th>DEROG</th>\n",
       "      <td>0.269921</td>\n",
       "      <td>0.006996</td>\n",
       "      <td>-0.047123</td>\n",
       "      <td>-0.043808</td>\n",
       "      <td>-0.057729</td>\n",
       "      <td>1.000000</td>\n",
       "      <td>0.171286</td>\n",
       "      <td>-0.079482</td>\n",
       "      <td>0.146590</td>\n",
       "      <td>0.052075</td>\n",
       "      <td>0.020542</td>\n",
       "    </tr>\n",
       "    <tr>\n",
       "      <th>DELINQ</th>\n",
       "      <td>0.346503</td>\n",
       "      <td>-0.028869</td>\n",
       "      <td>0.003580</td>\n",
       "      <td>-0.008158</td>\n",
       "      <td>0.051580</td>\n",
       "      <td>0.171286</td>\n",
       "      <td>1.000000</td>\n",
       "      <td>0.026324</td>\n",
       "      <td>0.059194</td>\n",
       "      <td>0.161153</td>\n",
       "      <td>0.048307</td>\n",
       "    </tr>\n",
       "    <tr>\n",
       "      <th>CLAGE</th>\n",
       "      <td>-0.165614</td>\n",
       "      <td>0.088237</td>\n",
       "      <td>0.129799</td>\n",
       "      <td>0.169536</td>\n",
       "      <td>0.186203</td>\n",
       "      <td>-0.079482</td>\n",
       "      <td>0.026324</td>\n",
       "      <td>1.000000</td>\n",
       "      <td>-0.109736</td>\n",
       "      <td>0.233802</td>\n",
       "      <td>-0.040741</td>\n",
       "    </tr>\n",
       "    <tr>\n",
       "      <th>NINQ</th>\n",
       "      <td>0.170031</td>\n",
       "      <td>0.045266</td>\n",
       "      <td>0.032582</td>\n",
       "      <td>-0.002539</td>\n",
       "      <td>-0.062837</td>\n",
       "      <td>0.146590</td>\n",
       "      <td>0.059194</td>\n",
       "      <td>-0.109736</td>\n",
       "      <td>1.000000</td>\n",
       "      <td>0.085912</td>\n",
       "      <td>0.120310</td>\n",
       "    </tr>\n",
       "    <tr>\n",
       "      <th>CLNO</th>\n",
       "      <td>-0.004543</td>\n",
       "      <td>0.074317</td>\n",
       "      <td>0.318515</td>\n",
       "      <td>0.265029</td>\n",
       "      <td>0.032815</td>\n",
       "      <td>0.052075</td>\n",
       "      <td>0.161153</td>\n",
       "      <td>0.233802</td>\n",
       "      <td>0.085912</td>\n",
       "      <td>1.000000</td>\n",
       "      <td>0.159850</td>\n",
       "    </tr>\n",
       "    <tr>\n",
       "      <th>DEBTINC</th>\n",
       "      <td>0.154544</td>\n",
       "      <td>0.068938</td>\n",
       "      <td>0.134575</td>\n",
       "      <td>0.113080</td>\n",
       "      <td>-0.046482</td>\n",
       "      <td>0.020542</td>\n",
       "      <td>0.048307</td>\n",
       "      <td>-0.040741</td>\n",
       "      <td>0.120310</td>\n",
       "      <td>0.159850</td>\n",
       "      <td>1.000000</td>\n",
       "    </tr>\n",
       "  </tbody>\n",
       "</table>\n",
       "</div>"
      ],
      "text/plain": [
       "              BAD      LOAN   MORTDUE     VALUE       YOJ     DEROG    DELINQ  \\\n",
       "BAD      1.000000 -0.075099 -0.046186 -0.036492 -0.053956  0.269921  0.346503   \n",
       "LOAN    -0.075099  1.000000  0.216380  0.331522  0.096878  0.006996 -0.028869   \n",
       "MORTDUE -0.046186  0.216380  1.000000  0.788736 -0.076201 -0.047123  0.003580   \n",
       "VALUE   -0.036492  0.331522  0.788736  1.000000  0.013638 -0.043808 -0.008158   \n",
       "YOJ     -0.053956  0.096878 -0.076201  0.013638  1.000000 -0.057729  0.051580   \n",
       "DEROG    0.269921  0.006996 -0.047123 -0.043808 -0.057729  1.000000  0.171286   \n",
       "DELINQ   0.346503 -0.028869  0.003580 -0.008158  0.051580  0.171286  1.000000   \n",
       "CLAGE   -0.165614  0.088237  0.129799  0.169536  0.186203 -0.079482  0.026324   \n",
       "NINQ     0.170031  0.045266  0.032582 -0.002539 -0.062837  0.146590  0.059194   \n",
       "CLNO    -0.004543  0.074317  0.318515  0.265029  0.032815  0.052075  0.161153   \n",
       "DEBTINC  0.154544  0.068938  0.134575  0.113080 -0.046482  0.020542  0.048307   \n",
       "\n",
       "            CLAGE      NINQ      CLNO   DEBTINC  \n",
       "BAD     -0.165614  0.170031 -0.004543  0.154544  \n",
       "LOAN     0.088237  0.045266  0.074317  0.068938  \n",
       "MORTDUE  0.129799  0.032582  0.318515  0.134575  \n",
       "VALUE    0.169536 -0.002539  0.265029  0.113080  \n",
       "YOJ      0.186203 -0.062837  0.032815 -0.046482  \n",
       "DEROG   -0.079482  0.146590  0.052075  0.020542  \n",
       "DELINQ   0.026324  0.059194  0.161153  0.048307  \n",
       "CLAGE    1.000000 -0.109736  0.233802 -0.040741  \n",
       "NINQ    -0.109736  1.000000  0.085912  0.120310  \n",
       "CLNO     0.233802  0.085912  1.000000  0.159850  \n",
       "DEBTINC -0.040741  0.120310  0.159850  1.000000  "
      ]
     },
     "execution_count": 16,
     "metadata": {},
     "output_type": "execute_result"
    }
   ],
   "source": [
    "df.corr()"
   ]
  },
  {
   "cell_type": "code",
   "execution_count": 17,
   "metadata": {
    "colab": {
     "base_uri": "https://localhost:8080/",
     "height": 527
    },
    "colab_type": "code",
    "id": "bb70dhGIIdw1",
    "outputId": "a61ba07b-f46c-468b-bf54-c8a39f40f639"
   },
   "outputs": [
    {
     "data": {
      "image/png": "[encoded data removed]",
      "text/plain": [
       "<Figure size 576x576 with 2 Axes>"
      ]
     },
     "metadata": {
      "needs_background": "light"
     },
     "output_type": "display_data"
    }
   ],
   "source": [
    "f, ax = plt.subplots(figsize=(8, 8))\n",
    "ax = sns.heatmap(df.corr(),\n",
    "            cmap = 'coolwarm', \n",
    "            annot = True)"
   ]
  },
  {
   "cell_type": "markdown",
   "metadata": {
    "colab_type": "text",
    "id": "DkiP67ynJw9R"
   },
   "source": [
    "## WOE Transformation"
   ]
  },
  {
   "cell_type": "markdown",
   "metadata": {
    "colab_type": "text",
    "id": "LVslrGvHJ23g"
   },
   "source": [
    "### 1. With NANs"
   ]
  },
  {
   "cell_type": "code",
   "execution_count": 18,
   "metadata": {
    "colab": {
     "base_uri": "https://localhost:8080/",
     "height": 479
    },
    "colab_type": "code",
    "id": "CXBrHfW_J7vn",
    "outputId": "15381fae-92b9-4c0a-a8b7-00563326ecba",
    "scrolled": true
   },
   "outputs": [
    {
     "name": "stdout",
     "output_type": "stream",
     "text": [
      "Collecting scorecardpy\n",
      "  Downloading https://files.pythonhosted.org/packages/3e/18/8e3f675b9baaf027e84cb84f9bc3bb57381ab3d0b5241e089653d5d92784/scorecardpy-0.1.9.2.tar.gz (55kB)\n",
      "Requirement already satisfied: numpy in c:\\users\\leand\\anaconda3\\lib\\site-packages (from scorecardpy) (1.16.2)\n",
      "Requirement already satisfied: pandas>=0.25.0 in c:\\users\\leand\\anaconda3\\lib\\site-packages (from scorecardpy) (1.0.5)\n",
      "Requirement already satisfied: matplotlib in c:\\users\\leand\\anaconda3\\lib\\site-packages (from scorecardpy) (3.0.3)\n",
      "Requirement already satisfied: scikit-learn>=0.19.1 in c:\\users\\leand\\anaconda3\\lib\\site-packages (from scorecardpy) (0.21.3)\n",
      "Requirement already satisfied: python-dateutil>=2.6.1 in c:\\users\\leand\\anaconda3\\lib\\site-packages (from pandas>=0.25.0->scorecardpy) (2.8.0)\n",
      "Requirement already satisfied: pytz>=2017.2 in c:\\users\\leand\\anaconda3\\lib\\site-packages (from pandas>=0.25.0->scorecardpy) (2018.9)\n",
      "Requirement already satisfied: cycler>=0.10 in c:\\users\\leand\\anaconda3\\lib\\site-packages (from matplotlib->scorecardpy) (0.10.0)\n",
      "Requirement already satisfied: kiwisolver>=1.0.1 in c:\\users\\leand\\anaconda3\\lib\\site-packages (from matplotlib->scorecardpy) (1.0.1)\n",
      "Requirement already satisfied: pyparsing!=2.0.4,!=2.1.2,!=2.1.6,>=2.0.1 in c:\\users\\leand\\anaconda3\\lib\\site-packages (from matplotlib->scorecardpy) (2.3.1)\n",
      "Requirement already satisfied: joblib>=0.11 in c:\\users\\leand\\anaconda3\\lib\\site-packages (from scikit-learn>=0.19.1->scorecardpy) (0.13.2)\n",
      "Requirement already satisfied: scipy>=0.17.0 in c:\\users\\leand\\anaconda3\\lib\\site-packages (from scikit-learn>=0.19.1->scorecardpy) (1.2.1)\n",
      "Requirement already satisfied: six>=1.5 in c:\\users\\leand\\anaconda3\\lib\\site-packages (from python-dateutil>=2.6.1->pandas>=0.25.0->scorecardpy) (1.12.0)\n",
      "Requirement already satisfied: setuptools in c:\\users\\leand\\anaconda3\\lib\\site-packages (from kiwisolver>=1.0.1->matplotlib->scorecardpy) (40.8.0)\n",
      "Building wheels for collected packages: scorecardpy\n",
      "  Building wheel for scorecardpy (setup.py): started\n",
      "  Building wheel for scorecardpy (setup.py): finished with status 'done'\n",
      "  Stored in directory: C:\\Users\\leand\\AppData\\Local\\pip\\Cache\\wheels\\1d\\66\\14\\23aeb4e1128278f5880580e2fdd10e956de112a5d56a3a043e\n",
      "Successfully built scorecardpy\n",
      "Installing collected packages: scorecardpy\n",
      "Successfully installed scorecardpy-0.1.9.2\n",
      "Collecting monotonic-binning\n",
      "  Downloading https://files.pythonhosted.org/packages/a6/9e/4fc8a79c1555b52de9e6f7b297c3841a9e06d164181e7108df00084422fd/monotonic_binning-0.0.1-py3-none-any.whl\n",
      "Installing collected packages: monotonic-binning\n",
      "Successfully installed monotonic-binning-0.0.1\n"
     ]
    }
   ],
   "source": [
    "!pip install scorecardpy\n",
    "!pip install monotonic-binning\n",
    "import scorecardpy as sc\n",
    "from monotonic_binning.monotonic_woe_binning import Binning"
   ]
  },
  {
   "cell_type": "code",
   "execution_count": 19,
   "metadata": {
    "colab": {},
    "colab_type": "code",
    "id": "D3qOEMaRKLjg"
   },
   "outputs": [],
   "source": [
    "# reload data\n",
    "df = pd.read_csv('https://raw.githubusercontent.com/Carl-Lejerskar/HMEQ/master/hmeq.csv')"
   ]
  },
  {
   "cell_type": "markdown",
   "metadata": {
    "colab_type": "text",
    "id": "rNqjgE4SKiB7"
   },
   "source": [
    "#### a) Train / Test split"
   ]
  },
  {
   "cell_type": "code",
   "execution_count": 20,
   "metadata": {
    "colab": {},
    "colab_type": "code",
    "id": "NRpncVJ2KV6G"
   },
   "outputs": [],
   "source": [
    "# Perform a 70 / 30 split of data\n",
    "train, test = sc.split_df(df, 'BAD', ratio = 0.7, seed = 999).values()"
   ]
  },
  {
   "cell_type": "markdown",
   "metadata": {
    "colab_type": "text",
    "id": "P1ht5r2OKwTN"
   },
   "source": [
    "#### b) Compute monotonic WOEs - Numeric Variables"
   ]
  },
  {
   "cell_type": "code",
   "execution_count": 21,
   "metadata": {
    "colab": {},
    "colab_type": "code",
    "id": "2JC1pRoEKvEZ"
   },
   "outputs": [],
   "source": [
    "var = train.drop(['BAD', 'REASON', 'JOB'], axis = 1).columns\n",
    "y_var = train['BAD']\n",
    "\n",
    "def woe_num(x, y):\n",
    "  bin_object = Binning(y, n_threshold = 50, y_threshold = 10, p_threshold = 0.35, sign=False)\n",
    "  global breaks \n",
    "  breaks = {}\n",
    "  for i in x:\n",
    "    bin_object.fit(train[[y, i]])\n",
    "    breaks[i] = (bin_object.bins[1:-1].tolist())\n",
    "  return breaks"
   ]
  },
  {
   "cell_type": "code",
   "execution_count": 22,
   "metadata": {
    "colab": {
     "base_uri": "https://localhost:8080/",
     "height": 272
    },
    "colab_type": "code",
    "id": "hbmNx1czLS93",
    "outputId": "877ef6db-54fb-4a98-9024-37c1b133e1db"
   },
   "outputs": [
    {
     "data": {
      "text/plain": [
       "{'LOAN': [38600.0, 89200.0],\n",
       " 'MORTDUE': [153896.0, 399412.0],\n",
       " 'VALUE': [855909.0],\n",
       " 'YOJ': [0.0, 41.0],\n",
       " 'DEROG': [0.0, 1.0, 2.0, 10.0],\n",
       " 'DELINQ': [0.0, 1.0, 2.0, 3.0, 15.0],\n",
       " 'CLAGE': [1154.6333332999998],\n",
       " 'NINQ': [0.0, 1.0, 2.0, 3.0, 4.0, 17.0],\n",
       " 'CLNO': [26.0, 32.0, 38.0, 71.0],\n",
       " 'DEBTINC': [30.774536166999997,\n",
       "  34.529550086,\n",
       "  40.315819301,\n",
       "  42.909997351,\n",
       "  45.413177555,\n",
       "  203.31214869]}"
      ]
     },
     "execution_count": 22,
     "metadata": {},
     "output_type": "execute_result"
    }
   ],
   "source": [
    "woe_num(var, 'BAD')"
   ]
  },
  {
   "cell_type": "markdown",
   "metadata": {
    "colab_type": "text",
    "id": "oVPpUCDENEax"
   },
   "source": [
    "#### c) Categorical variables"
   ]
  },
  {
   "cell_type": "code",
   "execution_count": 23,
   "metadata": {
    "colab": {
     "base_uri": "https://localhost:8080/",
     "height": 51
    },
    "colab_type": "code",
    "id": "azsfyvXZNHbq",
    "outputId": "c02be860-30ab-4b86-8538-6a679a907a41"
   },
   "outputs": [
    {
     "name": "stdout",
     "output_type": "stream",
     "text": [
      "[INFO] creating woe binning ...\n",
      "[INFO] The breaks_list is saved as cat_breaks_20200724_164925.py\n"
     ]
    }
   ],
   "source": [
    "# Check categorical variables names\n",
    "bins = sc.woebin(train, y = 'BAD', x = ['JOB', 'REASON'], save_breaks_list = 'cat_breaks')"
   ]
  },
  {
   "cell_type": "markdown",
   "metadata": {
    "colab_type": "text",
    "id": "X5I0J78YPa6K"
   },
   "source": [
    "#### d) Merge numeric and categorical variables breaks"
   ]
  },
  {
   "cell_type": "code",
   "execution_count": 25,
   "metadata": {
    "colab": {
     "base_uri": "https://localhost:8080/",
     "height": 54
    },
    "colab_type": "code",
    "id": "18_HATZLPY45",
    "outputId": "ea6d2085-b94e-4f35-efb1-f889406a00cf",
    "scrolled": true
   },
   "outputs": [
    {
     "name": "stdout",
     "output_type": "stream",
     "text": [
      "{'LOAN': [38600.0, 89200.0], 'MORTDUE': [153896.0, 399412.0], 'VALUE': [855909.0], 'YOJ': [0.0, 41.0], 'DEROG': [0.0, 1.0, 2.0, 10.0], 'DELINQ': [0.0, 1.0, 2.0, 3.0, 15.0], 'CLAGE': [1154.6333332999998], 'NINQ': [0.0, 1.0, 2.0, 3.0, 4.0, 17.0], 'CLNO': [26.0, 32.0, 38.0, 71.0], 'DEBTINC': [30.774536166999997, 34.529550086, 40.315819301, 42.909997351, 45.413177555, 203.31214869], 'JOB': ['Office', 'ProfExe', 'Mgr%,%Other', 'Self%,%Sales'], 'REASON': ['DebtCon', 'HomeImp']}\n"
     ]
    }
   ],
   "source": [
    "# import dictionary\n",
    "from cat_breaks_20200724_164925 import breaks_list\n",
    "breaks_list\n",
    "\n",
    "# merge\n",
    "breaks.update(breaks_list)\n",
    "print(breaks)"
   ]
  },
  {
   "cell_type": "markdown",
   "metadata": {
    "colab_type": "text",
    "id": "KV9zY_WUSMUQ"
   },
   "source": [
    "#### e) Compute WOEs"
   ]
  },
  {
   "cell_type": "code",
   "execution_count": 26,
   "metadata": {
    "colab": {
     "base_uri": "https://localhost:8080/",
     "height": 34
    },
    "colab_type": "code",
    "id": "rdSuDPowSLDx",
    "outputId": "2716ae61-75be-4074-ae8c-f871beb7a09f"
   },
   "outputs": [
    {
     "name": "stdout",
     "output_type": "stream",
     "text": [
      "[INFO] creating woe binning ...\n"
     ]
    }
   ],
   "source": [
    "bins_adj = sc.woebin(df, 'BAD', breaks_list= breaks, positive = 'bad|0') # change positive to adjust WOE to ln(GOOD / BAD)"
   ]
  },
  {
   "cell_type": "code",
   "execution_count": 27,
   "metadata": {
    "colab": {
     "base_uri": "https://localhost:8080/",
     "height": 1000
    },
    "colab_type": "code",
    "id": "fTHEwrOMSVH2",
    "outputId": "4a772890-a911-441f-f268-0bce8919a0d0"
   },
   "outputs": [
    {
     "data": {
      "text/plain": [
       "{'VALUE': <Figure size 432x288 with 2 Axes>,\n",
       " 'NINQ': <Figure size 432x288 with 2 Axes>,\n",
       " 'DEROG': <Figure size 432x288 with 2 Axes>,\n",
       " 'DEBTINC': <Figure size 432x288 with 2 Axes>,\n",
       " 'CLNO': <Figure size 432x288 with 2 Axes>,\n",
       " 'YOJ': <Figure size 432x288 with 2 Axes>,\n",
       " 'JOB': <Figure size 432x288 with 2 Axes>,\n",
       " 'MORTDUE': <Figure size 432x288 with 2 Axes>,\n",
       " 'CLAGE': <Figure size 432x288 with 2 Axes>,\n",
       " 'DELINQ': <Figure size 432x288 with 2 Axes>,\n",
       " 'REASON': <Figure size 432x288 with 2 Axes>,\n",
       " 'LOAN': <Figure size 432x288 with 2 Axes>}"
      ]
     },
     "execution_count": 27,
     "metadata": {},
     "output_type": "execute_result"
    },
    {
     "data": {
      "image/png": "[encoded data removed]",
      "text/plain": [
       "<Figure size 432x288 with 2 Axes>"
      ]
     },
     "metadata": {
      "needs_background": "light"
     },
     "output_type": "display_data"
    },
    {
     "data": {
      "image/png": "[encoded data removed]",
      "text/plain": [
       "<Figure size 432x288 with 2 Axes>"
      ]
     },
     "metadata": {
      "needs_background": "light"
     },
     "output_type": "display_data"
    },
    {
     "data": {
      "image/png": "[encoded data removed]",
      "text/plain": [
       "<Figure size 432x288 with 2 Axes>"
      ]
     },
     "metadata": {
      "needs_background": "light"
     },
     "output_type": "display_data"
    },
    {
     "data": {
      "image/png": "[encoded data removed]",
      "text/plain": [
       "<Figure size 432x288 with 2 Axes>"
      ]
     },
     "metadata": {
      "needs_background": "light"
     },
     "output_type": "display_data"
    },
    {
     "data": {
      "image/png": "[encoded data removed]",
      "text/plain": [
       "<Figure size 432x288 with 2 Axes>"
      ]
     },
     "metadata": {
      "needs_background": "light"
     },
     "output_type": "display_data"
    },
    {
     "data": {
      "image/png": "[encoded data removed]",
      "text/plain": [
       "<Figure size 432x288 with 2 Axes>"
      ]
     },
     "metadata": {
      "needs_background": "light"
     },
     "output_type": "display_data"
    },
    {
     "data": {
      "image/png": "[encoded data removed]",
      "text/plain": [
       "<Figure size 432x288 with 2 Axes>"
      ]
     },
     "metadata": {
      "needs_background": "light"
     },
     "output_type": "display_data"
    },
    {
     "data": {
      "image/png": "[encoded data removed]",
      "text/plain": [
       "<Figure size 432x288 with 2 Axes>"
      ]
     },
     "metadata": {
      "needs_background": "light"
     },
     "output_type": "display_data"
    },
    {
     "data": {
      "image/png": "[encoded data removed]",
      "text/plain": [
       "<Figure size 432x288 with 2 Axes>"
      ]
     },
     "metadata": {
      "needs_background": "light"
     },
     "output_type": "display_data"
    },
    {
     "data": {
      "image/png": "[encoded data removed]",
      "text/plain": [
       "<Figure size 432x288 with 2 Axes>"
      ]
     },
     "metadata": {
      "needs_background": "light"
     },
     "output_type": "display_data"
    },
    {
     "data": {
      "image/png": "[encoded data removed]",
      "text/plain": [
       "<Figure size 432x288 with 2 Axes>"
      ]
     },
     "metadata": {
      "needs_background": "light"
     },
     "output_type": "display_data"
    },
    {
     "data": {
      "image/png": "[encoded data removed]",
      "text/plain": [
       "<Figure size 432x288 with 2 Axes>"
      ]
     },
     "metadata": {
      "needs_background": "light"
     },
     "output_type": "display_data"
    }
   ],
   "source": [
    "sc.woebin_plot(bins_adj)"
   ]
  },
  {
   "cell_type": "markdown",
   "metadata": {
    "colab_type": "text",
    "id": "-evlKceqBt50"
   },
   "source": [
    "#### f) Apply transformations to df"
   ]
  },
  {
   "cell_type": "code",
   "execution_count": 28,
   "metadata": {
    "colab": {
     "base_uri": "https://localhost:8080/",
     "height": 51
    },
    "colab_type": "code",
    "id": "ILU55AuYBtIZ",
    "outputId": "95423e48-f550-474c-b3e5-5f0e9b6cd2ec"
   },
   "outputs": [
    {
     "name": "stdout",
     "output_type": "stream",
     "text": [
      "[INFO] converting into woe values ...\n",
      "[INFO] converting into woe values ...\n"
     ]
    }
   ],
   "source": [
    "# converting train and test into woe values\n",
    "train_woe = sc.woebin_ply(train, bins_adj)\n",
    "test_woe = sc.woebin_ply(test, bins_adj)"
   ]
  },
  {
   "cell_type": "markdown",
   "metadata": {
    "colab_type": "text",
    "id": "LOHp4v-8C3-r"
   },
   "source": [
    "#### g) Merge original variables with WOEs"
   ]
  },
  {
   "cell_type": "markdown",
   "metadata": {
    "colab_type": "text",
    "id": "ebHtzlMVGwlD"
   },
   "source": [
    "In this case, we will merge by index because we don't have any ID. "
   ]
  },
  {
   "cell_type": "code",
   "execution_count": 29,
   "metadata": {
    "colab": {},
    "colab_type": "code",
    "id": "PzvXwfHzB47w"
   },
   "outputs": [],
   "source": [
    "# Merge by index\n",
    "train_final = train.merge(train_woe, how = 'left', left_index=True, right_index=True)\n",
    "test_final = test.merge(test_woe, how = 'left', left_index=True, right_index=True)"
   ]
  },
  {
   "cell_type": "code",
   "execution_count": 30,
   "metadata": {
    "colab": {
     "base_uri": "https://localhost:8080/",
     "height": 379
    },
    "colab_type": "code",
    "id": "ofnuy1-6ELWm",
    "outputId": "325ea8b1-4170-4d84-8b01-eff90c889d8e"
   },
   "outputs": [
    {
     "data": {
      "text/html": [
       "<div>\n",
       "<style scoped>\n",
       "    .dataframe tbody tr th:only-of-type {\n",
       "        vertical-align: middle;\n",
       "    }\n",
       "\n",
       "    .dataframe tbody tr th {\n",
       "        vertical-align: top;\n",
       "    }\n",
       "\n",
       "    .dataframe thead th {\n",
       "        text-align: right;\n",
       "    }\n",
       "</style>\n",
       "<table border=\"1\" class=\"dataframe\">\n",
       "  <thead>\n",
       "    <tr style=\"text-align: right;\">\n",
       "      <th></th>\n",
       "      <th>BAD_x</th>\n",
       "      <th>LOAN</th>\n",
       "      <th>MORTDUE</th>\n",
       "      <th>VALUE</th>\n",
       "      <th>REASON</th>\n",
       "      <th>JOB</th>\n",
       "      <th>YOJ</th>\n",
       "      <th>DEROG</th>\n",
       "      <th>DELINQ</th>\n",
       "      <th>CLAGE</th>\n",
       "      <th>NINQ</th>\n",
       "      <th>CLNO</th>\n",
       "      <th>DEBTINC</th>\n",
       "      <th>BAD_y</th>\n",
       "      <th>VALUE_woe</th>\n",
       "      <th>NINQ_woe</th>\n",
       "      <th>DEROG_woe</th>\n",
       "      <th>DEBTINC_woe</th>\n",
       "      <th>CLNO_woe</th>\n",
       "      <th>YOJ_woe</th>\n",
       "      <th>JOB_woe</th>\n",
       "      <th>MORTDUE_woe</th>\n",
       "      <th>CLAGE_woe</th>\n",
       "      <th>DELINQ_woe</th>\n",
       "      <th>REASON_woe</th>\n",
       "      <th>LOAN_woe</th>\n",
       "    </tr>\n",
       "  </thead>\n",
       "  <tbody>\n",
       "    <tr>\n",
       "      <th>0</th>\n",
       "      <td>1</td>\n",
       "      <td>1100</td>\n",
       "      <td>25860.0</td>\n",
       "      <td>39025.0</td>\n",
       "      <td>HomeImp</td>\n",
       "      <td>Other</td>\n",
       "      <td>10.5</td>\n",
       "      <td>0.0</td>\n",
       "      <td>0.0</td>\n",
       "      <td>94.366667</td>\n",
       "      <td>1.0</td>\n",
       "      <td>9.0</td>\n",
       "      <td>NaN</td>\n",
       "      <td>1</td>\n",
       "      <td>0.091721</td>\n",
       "      <td>0.062369</td>\n",
       "      <td>0.220601</td>\n",
       "      <td>-1.880721</td>\n",
       "      <td>0.060205</td>\n",
       "      <td>-0.040366</td>\n",
       "      <td>-0.194240</td>\n",
       "      <td>0.015803</td>\n",
       "      <td>0.020057</td>\n",
       "      <td>0.429758</td>\n",
       "      <td>-0.138124</td>\n",
       "      <td>0.015924</td>\n",
       "    </tr>\n",
       "    <tr>\n",
       "      <th>1</th>\n",
       "      <td>1</td>\n",
       "      <td>1300</td>\n",
       "      <td>70053.0</td>\n",
       "      <td>68400.0</td>\n",
       "      <td>HomeImp</td>\n",
       "      <td>Other</td>\n",
       "      <td>7.0</td>\n",
       "      <td>0.0</td>\n",
       "      <td>2.0</td>\n",
       "      <td>121.833333</td>\n",
       "      <td>0.0</td>\n",
       "      <td>14.0</td>\n",
       "      <td>NaN</td>\n",
       "      <td>1</td>\n",
       "      <td>0.091721</td>\n",
       "      <td>0.295176</td>\n",
       "      <td>0.220601</td>\n",
       "      <td>-1.880721</td>\n",
       "      <td>0.060205</td>\n",
       "      <td>-0.040366</td>\n",
       "      <td>-0.194240</td>\n",
       "      <td>0.015803</td>\n",
       "      <td>0.020057</td>\n",
       "      <td>-1.180877</td>\n",
       "      <td>-0.138124</td>\n",
       "      <td>0.015924</td>\n",
       "    </tr>\n",
       "    <tr>\n",
       "      <th>3</th>\n",
       "      <td>1</td>\n",
       "      <td>1500</td>\n",
       "      <td>NaN</td>\n",
       "      <td>NaN</td>\n",
       "      <td>NaN</td>\n",
       "      <td>NaN</td>\n",
       "      <td>NaN</td>\n",
       "      <td>NaN</td>\n",
       "      <td>NaN</td>\n",
       "      <td>NaN</td>\n",
       "      <td>NaN</td>\n",
       "      <td>NaN</td>\n",
       "      <td>NaN</td>\n",
       "      <td>1</td>\n",
       "      <td>-4.097682</td>\n",
       "      <td>0.368226</td>\n",
       "      <td>0.575791</td>\n",
       "      <td>-1.880721</td>\n",
       "      <td>-0.230025</td>\n",
       "      <td>0.545228</td>\n",
       "      <td>1.020240</td>\n",
       "      <td>-0.032048</td>\n",
       "      <td>-0.308261</td>\n",
       "      <td>0.564183</td>\n",
       "      <td>0.057476</td>\n",
       "      <td>0.015924</td>\n",
       "    </tr>\n",
       "    <tr>\n",
       "      <th>5</th>\n",
       "      <td>1</td>\n",
       "      <td>1700</td>\n",
       "      <td>30548.0</td>\n",
       "      <td>40320.0</td>\n",
       "      <td>HomeImp</td>\n",
       "      <td>Other</td>\n",
       "      <td>9.0</td>\n",
       "      <td>0.0</td>\n",
       "      <td>0.0</td>\n",
       "      <td>101.466002</td>\n",
       "      <td>1.0</td>\n",
       "      <td>8.0</td>\n",
       "      <td>37.113614</td>\n",
       "      <td>1</td>\n",
       "      <td>0.091721</td>\n",
       "      <td>0.062369</td>\n",
       "      <td>0.220601</td>\n",
       "      <td>1.204324</td>\n",
       "      <td>0.060205</td>\n",
       "      <td>-0.040366</td>\n",
       "      <td>-0.194240</td>\n",
       "      <td>0.015803</td>\n",
       "      <td>0.020057</td>\n",
       "      <td>0.429758</td>\n",
       "      <td>-0.138124</td>\n",
       "      <td>0.015924</td>\n",
       "    </tr>\n",
       "    <tr>\n",
       "      <th>7</th>\n",
       "      <td>1</td>\n",
       "      <td>1800</td>\n",
       "      <td>28502.0</td>\n",
       "      <td>43034.0</td>\n",
       "      <td>HomeImp</td>\n",
       "      <td>Other</td>\n",
       "      <td>11.0</td>\n",
       "      <td>0.0</td>\n",
       "      <td>0.0</td>\n",
       "      <td>88.766030</td>\n",
       "      <td>0.0</td>\n",
       "      <td>8.0</td>\n",
       "      <td>36.884894</td>\n",
       "      <td>1</td>\n",
       "      <td>0.091721</td>\n",
       "      <td>0.295176</td>\n",
       "      <td>0.220601</td>\n",
       "      <td>1.204324</td>\n",
       "      <td>0.060205</td>\n",
       "      <td>-0.040366</td>\n",
       "      <td>-0.194240</td>\n",
       "      <td>0.015803</td>\n",
       "      <td>0.020057</td>\n",
       "      <td>0.429758</td>\n",
       "      <td>-0.138124</td>\n",
       "      <td>0.015924</td>\n",
       "    </tr>\n",
       "    <tr>\n",
       "      <th>8</th>\n",
       "      <td>1</td>\n",
       "      <td>2000</td>\n",
       "      <td>32700.0</td>\n",
       "      <td>46740.0</td>\n",
       "      <td>HomeImp</td>\n",
       "      <td>Other</td>\n",
       "      <td>3.0</td>\n",
       "      <td>0.0</td>\n",
       "      <td>2.0</td>\n",
       "      <td>216.933333</td>\n",
       "      <td>1.0</td>\n",
       "      <td>12.0</td>\n",
       "      <td>NaN</td>\n",
       "      <td>1</td>\n",
       "      <td>0.091721</td>\n",
       "      <td>0.062369</td>\n",
       "      <td>0.220601</td>\n",
       "      <td>-1.880721</td>\n",
       "      <td>0.060205</td>\n",
       "      <td>-0.040366</td>\n",
       "      <td>-0.194240</td>\n",
       "      <td>0.015803</td>\n",
       "      <td>0.020057</td>\n",
       "      <td>-1.180877</td>\n",
       "      <td>-0.138124</td>\n",
       "      <td>0.015924</td>\n",
       "    </tr>\n",
       "    <tr>\n",
       "      <th>9</th>\n",
       "      <td>1</td>\n",
       "      <td>2000</td>\n",
       "      <td>NaN</td>\n",
       "      <td>62250.0</td>\n",
       "      <td>HomeImp</td>\n",
       "      <td>Sales</td>\n",
       "      <td>16.0</td>\n",
       "      <td>0.0</td>\n",
       "      <td>0.0</td>\n",
       "      <td>115.800000</td>\n",
       "      <td>0.0</td>\n",
       "      <td>13.0</td>\n",
       "      <td>NaN</td>\n",
       "      <td>1</td>\n",
       "      <td>0.091721</td>\n",
       "      <td>0.295176</td>\n",
       "      <td>0.220601</td>\n",
       "      <td>-1.880721</td>\n",
       "      <td>0.060205</td>\n",
       "      <td>-0.040366</td>\n",
       "      <td>-0.625915</td>\n",
       "      <td>-0.032048</td>\n",
       "      <td>0.020057</td>\n",
       "      <td>0.429758</td>\n",
       "      <td>-0.138124</td>\n",
       "      <td>0.015924</td>\n",
       "    </tr>\n",
       "    <tr>\n",
       "      <th>10</th>\n",
       "      <td>1</td>\n",
       "      <td>2000</td>\n",
       "      <td>22608.0</td>\n",
       "      <td>NaN</td>\n",
       "      <td>NaN</td>\n",
       "      <td>NaN</td>\n",
       "      <td>18.0</td>\n",
       "      <td>NaN</td>\n",
       "      <td>NaN</td>\n",
       "      <td>NaN</td>\n",
       "      <td>NaN</td>\n",
       "      <td>NaN</td>\n",
       "      <td>NaN</td>\n",
       "      <td>1</td>\n",
       "      <td>-4.097682</td>\n",
       "      <td>0.368226</td>\n",
       "      <td>0.575791</td>\n",
       "      <td>-1.880721</td>\n",
       "      <td>-0.230025</td>\n",
       "      <td>-0.040366</td>\n",
       "      <td>1.020240</td>\n",
       "      <td>0.015803</td>\n",
       "      <td>-0.308261</td>\n",
       "      <td>0.564183</td>\n",
       "      <td>0.057476</td>\n",
       "      <td>0.015924</td>\n",
       "    </tr>\n",
       "    <tr>\n",
       "      <th>13</th>\n",
       "      <td>0</td>\n",
       "      <td>2000</td>\n",
       "      <td>64536.0</td>\n",
       "      <td>87400.0</td>\n",
       "      <td>NaN</td>\n",
       "      <td>Mgr</td>\n",
       "      <td>2.5</td>\n",
       "      <td>0.0</td>\n",
       "      <td>0.0</td>\n",
       "      <td>147.133333</td>\n",
       "      <td>0.0</td>\n",
       "      <td>24.0</td>\n",
       "      <td>NaN</td>\n",
       "      <td>0</td>\n",
       "      <td>0.091721</td>\n",
       "      <td>0.295176</td>\n",
       "      <td>0.220601</td>\n",
       "      <td>-1.880721</td>\n",
       "      <td>0.060205</td>\n",
       "      <td>-0.040366</td>\n",
       "      <td>-0.194240</td>\n",
       "      <td>0.015803</td>\n",
       "      <td>0.020057</td>\n",
       "      <td>0.429758</td>\n",
       "      <td>0.057476</td>\n",
       "      <td>0.015924</td>\n",
       "    </tr>\n",
       "    <tr>\n",
       "      <th>14</th>\n",
       "      <td>1</td>\n",
       "      <td>2100</td>\n",
       "      <td>71000.0</td>\n",
       "      <td>83850.0</td>\n",
       "      <td>HomeImp</td>\n",
       "      <td>Other</td>\n",
       "      <td>8.0</td>\n",
       "      <td>0.0</td>\n",
       "      <td>1.0</td>\n",
       "      <td>123.000000</td>\n",
       "      <td>0.0</td>\n",
       "      <td>16.0</td>\n",
       "      <td>NaN</td>\n",
       "      <td>1</td>\n",
       "      <td>0.091721</td>\n",
       "      <td>0.295176</td>\n",
       "      <td>0.220601</td>\n",
       "      <td>-1.880721</td>\n",
       "      <td>0.060205</td>\n",
       "      <td>-0.040366</td>\n",
       "      <td>-0.194240</td>\n",
       "      <td>0.015803</td>\n",
       "      <td>0.020057</td>\n",
       "      <td>-0.723884</td>\n",
       "      <td>-0.138124</td>\n",
       "      <td>0.015924</td>\n",
       "    </tr>\n",
       "  </tbody>\n",
       "</table>\n",
       "</div>"
      ],
      "text/plain": [
       "    BAD_x  LOAN  MORTDUE    VALUE   REASON    JOB   YOJ  DEROG  DELINQ       CLAGE  NINQ  CLNO    DEBTINC  BAD_y  VALUE_woe  NINQ_woe  DEROG_woe  DEBTINC_woe  CLNO_woe   YOJ_woe   JOB_woe  MORTDUE_woe  CLAGE_woe  DELINQ_woe  REASON_woe  LOAN_woe\n",
       "0       1  1100  25860.0  39025.0  HomeImp  Other  10.5    0.0     0.0   94.366667   1.0   9.0        NaN      1   0.091721  0.062369   0.220601    -1.880721  0.060205 -0.040366 -0.194240     0.015803   0.020057    0.429758   -0.138124  0.015924\n",
       "1       1  1300  70053.0  68400.0  HomeImp  Other   7.0    0.0     2.0  121.833333   0.0  14.0        NaN      1   0.091721  0.295176   0.220601    -1.880721  0.060205 -0.040366 -0.194240     0.015803   0.020057   -1.180877   -0.138124  0.015924\n",
       "3       1  1500      NaN      NaN      NaN    NaN   NaN    NaN     NaN         NaN   NaN   NaN        NaN      1  -4.097682  0.368226   0.575791    -1.880721 -0.230025  0.545228  1.020240    -0.032048  -0.308261    0.564183    0.057476  0.015924\n",
       "5       1  1700  30548.0  40320.0  HomeImp  Other   9.0    0.0     0.0  101.466002   1.0   8.0  37.113614      1   0.091721  0.062369   0.220601     1.204324  0.060205 -0.040366 -0.194240     0.015803   0.020057    0.429758   -0.138124  0.015924\n",
       "7       1  1800  28502.0  43034.0  HomeImp  Other  11.0    0.0     0.0   88.766030   0.0   8.0  36.884894      1   0.091721  0.295176   0.220601     1.204324  0.060205 -0.040366 -0.194240     0.015803   0.020057    0.429758   -0.138124  0.015924\n",
       "8       1  2000  32700.0  46740.0  HomeImp  Other   3.0    0.0     2.0  216.933333   1.0  12.0        NaN      1   0.091721  0.062369   0.220601    -1.880721  0.060205 -0.040366 -0.194240     0.015803   0.020057   -1.180877   -0.138124  0.015924\n",
       "9       1  2000      NaN  62250.0  HomeImp  Sales  16.0    0.0     0.0  115.800000   0.0  13.0        NaN      1   0.091721  0.295176   0.220601    -1.880721  0.060205 -0.040366 -0.625915    -0.032048   0.020057    0.429758   -0.138124  0.015924\n",
       "10      1  2000  22608.0      NaN      NaN    NaN  18.0    NaN     NaN         NaN   NaN   NaN        NaN      1  -4.097682  0.368226   0.575791    -1.880721 -0.230025 -0.040366  1.020240     0.015803  -0.308261    0.564183    0.057476  0.015924\n",
       "13      0  2000  64536.0  87400.0      NaN    Mgr   2.5    0.0     0.0  147.133333   0.0  24.0        NaN      0   0.091721  0.295176   0.220601    -1.880721  0.060205 -0.040366 -0.194240     0.015803   0.020057    0.429758    0.057476  0.015924\n",
       "14      1  2100  71000.0  83850.0  HomeImp  Other   8.0    0.0     1.0  123.000000   0.0  16.0        NaN      1   0.091721  0.295176   0.220601    -1.880721  0.060205 -0.040366 -0.194240     0.015803   0.020057   -0.723884   -0.138124  0.015924"
      ]
     },
     "execution_count": 30,
     "metadata": {},
     "output_type": "execute_result"
    }
   ],
   "source": [
    "train_final.head(10)"
   ]
  },
  {
   "cell_type": "code",
   "execution_count": 31,
   "metadata": {
    "colab": {},
    "colab_type": "code",
    "id": "jupNHYTtFGaX"
   },
   "outputs": [],
   "source": [
    "train_final = train_final.drop(columns = 'BAD_y').rename(columns={'BAD_x':'vd'})\n",
    "test_final = test_final.drop(columns = 'BAD_y').rename(columns={'BAD_x':'vd'})"
   ]
  },
  {
   "cell_type": "markdown",
   "metadata": {
    "colab_type": "text",
    "id": "pNRgLs2ULRNP"
   },
   "source": [
    "### Missing Input"
   ]
  },
  {
   "cell_type": "code",
   "execution_count": 32,
   "metadata": {
    "colab": {
     "base_uri": "https://localhost:8080/",
     "height": 824
    },
    "colab_type": "code",
    "id": "AnYQt5gSMSmp",
    "outputId": "58b46b6f-6bfd-4c73-ac3b-13a2e44e0fc0"
   },
   "outputs": [
    {
     "data": {
      "text/html": [
       "<div>\n",
       "<style scoped>\n",
       "    .dataframe tbody tr th:only-of-type {\n",
       "        vertical-align: middle;\n",
       "    }\n",
       "\n",
       "    .dataframe tbody tr th {\n",
       "        vertical-align: top;\n",
       "    }\n",
       "\n",
       "    .dataframe thead th {\n",
       "        text-align: right;\n",
       "    }\n",
       "</style>\n",
       "<table border=\"1\" class=\"dataframe\">\n",
       "  <thead>\n",
       "    <tr style=\"text-align: right;\">\n",
       "      <th></th>\n",
       "      <th>missing</th>\n",
       "      <th>total</th>\n",
       "      <th>percent</th>\n",
       "    </tr>\n",
       "  </thead>\n",
       "  <tbody>\n",
       "    <tr>\n",
       "      <th>vd</th>\n",
       "      <td>0</td>\n",
       "      <td>4172</td>\n",
       "      <td>0.0</td>\n",
       "    </tr>\n",
       "    <tr>\n",
       "      <th>VALUE_woe</th>\n",
       "      <td>0</td>\n",
       "      <td>4172</td>\n",
       "      <td>0.0</td>\n",
       "    </tr>\n",
       "    <tr>\n",
       "      <th>REASON_woe</th>\n",
       "      <td>0</td>\n",
       "      <td>4172</td>\n",
       "      <td>0.0</td>\n",
       "    </tr>\n",
       "    <tr>\n",
       "      <th>DELINQ_woe</th>\n",
       "      <td>0</td>\n",
       "      <td>4172</td>\n",
       "      <td>0.0</td>\n",
       "    </tr>\n",
       "    <tr>\n",
       "      <th>CLAGE_woe</th>\n",
       "      <td>0</td>\n",
       "      <td>4172</td>\n",
       "      <td>0.0</td>\n",
       "    </tr>\n",
       "    <tr>\n",
       "      <th>MORTDUE_woe</th>\n",
       "      <td>0</td>\n",
       "      <td>4172</td>\n",
       "      <td>0.0</td>\n",
       "    </tr>\n",
       "    <tr>\n",
       "      <th>JOB_woe</th>\n",
       "      <td>0</td>\n",
       "      <td>4172</td>\n",
       "      <td>0.0</td>\n",
       "    </tr>\n",
       "    <tr>\n",
       "      <th>YOJ_woe</th>\n",
       "      <td>0</td>\n",
       "      <td>4172</td>\n",
       "      <td>0.0</td>\n",
       "    </tr>\n",
       "    <tr>\n",
       "      <th>CLNO_woe</th>\n",
       "      <td>0</td>\n",
       "      <td>4172</td>\n",
       "      <td>0.0</td>\n",
       "    </tr>\n",
       "    <tr>\n",
       "      <th>DEBTINC_woe</th>\n",
       "      <td>0</td>\n",
       "      <td>4172</td>\n",
       "      <td>0.0</td>\n",
       "    </tr>\n",
       "    <tr>\n",
       "      <th>DEROG_woe</th>\n",
       "      <td>0</td>\n",
       "      <td>4172</td>\n",
       "      <td>0.0</td>\n",
       "    </tr>\n",
       "    <tr>\n",
       "      <th>NINQ_woe</th>\n",
       "      <td>0</td>\n",
       "      <td>4172</td>\n",
       "      <td>0.0</td>\n",
       "    </tr>\n",
       "    <tr>\n",
       "      <th>DEBTINC</th>\n",
       "      <td>0</td>\n",
       "      <td>4172</td>\n",
       "      <td>0.0</td>\n",
       "    </tr>\n",
       "    <tr>\n",
       "      <th>LOAN</th>\n",
       "      <td>0</td>\n",
       "      <td>4172</td>\n",
       "      <td>0.0</td>\n",
       "    </tr>\n",
       "    <tr>\n",
       "      <th>CLNO</th>\n",
       "      <td>0</td>\n",
       "      <td>4172</td>\n",
       "      <td>0.0</td>\n",
       "    </tr>\n",
       "    <tr>\n",
       "      <th>NINQ</th>\n",
       "      <td>0</td>\n",
       "      <td>4172</td>\n",
       "      <td>0.0</td>\n",
       "    </tr>\n",
       "    <tr>\n",
       "      <th>CLAGE</th>\n",
       "      <td>0</td>\n",
       "      <td>4172</td>\n",
       "      <td>0.0</td>\n",
       "    </tr>\n",
       "    <tr>\n",
       "      <th>DELINQ</th>\n",
       "      <td>0</td>\n",
       "      <td>4172</td>\n",
       "      <td>0.0</td>\n",
       "    </tr>\n",
       "    <tr>\n",
       "      <th>DEROG</th>\n",
       "      <td>0</td>\n",
       "      <td>4172</td>\n",
       "      <td>0.0</td>\n",
       "    </tr>\n",
       "    <tr>\n",
       "      <th>YOJ</th>\n",
       "      <td>0</td>\n",
       "      <td>4172</td>\n",
       "      <td>0.0</td>\n",
       "    </tr>\n",
       "    <tr>\n",
       "      <th>JOB</th>\n",
       "      <td>0</td>\n",
       "      <td>4172</td>\n",
       "      <td>0.0</td>\n",
       "    </tr>\n",
       "    <tr>\n",
       "      <th>REASON</th>\n",
       "      <td>0</td>\n",
       "      <td>4172</td>\n",
       "      <td>0.0</td>\n",
       "    </tr>\n",
       "    <tr>\n",
       "      <th>VALUE</th>\n",
       "      <td>0</td>\n",
       "      <td>4172</td>\n",
       "      <td>0.0</td>\n",
       "    </tr>\n",
       "    <tr>\n",
       "      <th>MORTDUE</th>\n",
       "      <td>0</td>\n",
       "      <td>4172</td>\n",
       "      <td>0.0</td>\n",
       "    </tr>\n",
       "    <tr>\n",
       "      <th>LOAN_woe</th>\n",
       "      <td>0</td>\n",
       "      <td>4172</td>\n",
       "      <td>0.0</td>\n",
       "    </tr>\n",
       "  </tbody>\n",
       "</table>\n",
       "</div>"
      ],
      "text/plain": [
       "             missing  total  percent\n",
       "vd                 0   4172      0.0\n",
       "VALUE_woe          0   4172      0.0\n",
       "REASON_woe         0   4172      0.0\n",
       "DELINQ_woe         0   4172      0.0\n",
       "CLAGE_woe          0   4172      0.0\n",
       "MORTDUE_woe        0   4172      0.0\n",
       "JOB_woe            0   4172      0.0\n",
       "YOJ_woe            0   4172      0.0\n",
       "CLNO_woe           0   4172      0.0\n",
       "DEBTINC_woe        0   4172      0.0\n",
       "DEROG_woe          0   4172      0.0\n",
       "NINQ_woe           0   4172      0.0\n",
       "DEBTINC            0   4172      0.0\n",
       "LOAN               0   4172      0.0\n",
       "CLNO               0   4172      0.0\n",
       "NINQ               0   4172      0.0\n",
       "CLAGE              0   4172      0.0\n",
       "DELINQ             0   4172      0.0\n",
       "DEROG              0   4172      0.0\n",
       "YOJ                0   4172      0.0\n",
       "JOB                0   4172      0.0\n",
       "REASON             0   4172      0.0\n",
       "VALUE              0   4172      0.0\n",
       "MORTDUE            0   4172      0.0\n",
       "LOAN_woe           0   4172      0.0"
      ]
     },
     "execution_count": 32,
     "metadata": {},
     "output_type": "execute_result"
    }
   ],
   "source": [
    "# Jobs\n",
    "## Let's fill missing values with the residual category\n",
    "train_final['JOB'] = train_final['JOB'].fillna(value = 'Other')\n",
    "\n",
    "# Reason\n",
    "## We fill missing values with the most frequent value ('DebtCon')\n",
    "train_final['REASON'] = train_final['REASON'].fillna('DebtCon')\n",
    "\n",
    "# numeric variables\n",
    "## we input missings with their median (given the outliers detected)\n",
    "train_final['DEBTINC'] = train_final['DEBTINC'].fillna(train_final['DEBTINC'].median())\n",
    "train_final['DEROG'] = train_final['DEROG'].fillna(train_final['DEROG'].median())\n",
    "train_final['DELINQ'] = train_final['DELINQ'].fillna(train_final['DELINQ'].median())\n",
    "train_final['MORTDUE'] = train_final['MORTDUE'].fillna(train_final['MORTDUE'].median())\n",
    "train_final['YOJ'] = train_final['YOJ'].fillna(train_final['YOJ'].median())\n",
    "train_final['NINQ'] = train_final['NINQ'].fillna(train_final['NINQ'].median())\n",
    "train_final['CLAGE'] = train_final['CLAGE'].fillna(train_final['CLAGE'].median())\n",
    "train_final['CLNO'] = train_final['CLNO'].fillna(train_final['CLNO'].median())\n",
    "train_final['VALUE'] = train_final['VALUE'].fillna(train_final['VALUE'].median())\n",
    "\n",
    "# missing check\n",
    "train_final.stb.missing()"
   ]
  },
  {
   "cell_type": "code",
   "execution_count": 33,
   "metadata": {
    "colab": {
     "base_uri": "https://localhost:8080/",
     "height": 824
    },
    "colab_type": "code",
    "id": "6igbHUHtJDvA",
    "outputId": "2206ff66-5d45-4098-e913-f78450a9bc40"
   },
   "outputs": [
    {
     "data": {
      "text/html": [
       "<div>\n",
       "<style scoped>\n",
       "    .dataframe tbody tr th:only-of-type {\n",
       "        vertical-align: middle;\n",
       "    }\n",
       "\n",
       "    .dataframe tbody tr th {\n",
       "        vertical-align: top;\n",
       "    }\n",
       "\n",
       "    .dataframe thead th {\n",
       "        text-align: right;\n",
       "    }\n",
       "</style>\n",
       "<table border=\"1\" class=\"dataframe\">\n",
       "  <thead>\n",
       "    <tr style=\"text-align: right;\">\n",
       "      <th></th>\n",
       "      <th>missing</th>\n",
       "      <th>total</th>\n",
       "      <th>percent</th>\n",
       "    </tr>\n",
       "  </thead>\n",
       "  <tbody>\n",
       "    <tr>\n",
       "      <th>vd</th>\n",
       "      <td>0</td>\n",
       "      <td>1788</td>\n",
       "      <td>0.0</td>\n",
       "    </tr>\n",
       "    <tr>\n",
       "      <th>VALUE_woe</th>\n",
       "      <td>0</td>\n",
       "      <td>1788</td>\n",
       "      <td>0.0</td>\n",
       "    </tr>\n",
       "    <tr>\n",
       "      <th>REASON_woe</th>\n",
       "      <td>0</td>\n",
       "      <td>1788</td>\n",
       "      <td>0.0</td>\n",
       "    </tr>\n",
       "    <tr>\n",
       "      <th>DELINQ_woe</th>\n",
       "      <td>0</td>\n",
       "      <td>1788</td>\n",
       "      <td>0.0</td>\n",
       "    </tr>\n",
       "    <tr>\n",
       "      <th>CLAGE_woe</th>\n",
       "      <td>0</td>\n",
       "      <td>1788</td>\n",
       "      <td>0.0</td>\n",
       "    </tr>\n",
       "    <tr>\n",
       "      <th>MORTDUE_woe</th>\n",
       "      <td>0</td>\n",
       "      <td>1788</td>\n",
       "      <td>0.0</td>\n",
       "    </tr>\n",
       "    <tr>\n",
       "      <th>JOB_woe</th>\n",
       "      <td>0</td>\n",
       "      <td>1788</td>\n",
       "      <td>0.0</td>\n",
       "    </tr>\n",
       "    <tr>\n",
       "      <th>YOJ_woe</th>\n",
       "      <td>0</td>\n",
       "      <td>1788</td>\n",
       "      <td>0.0</td>\n",
       "    </tr>\n",
       "    <tr>\n",
       "      <th>CLNO_woe</th>\n",
       "      <td>0</td>\n",
       "      <td>1788</td>\n",
       "      <td>0.0</td>\n",
       "    </tr>\n",
       "    <tr>\n",
       "      <th>DEBTINC_woe</th>\n",
       "      <td>0</td>\n",
       "      <td>1788</td>\n",
       "      <td>0.0</td>\n",
       "    </tr>\n",
       "    <tr>\n",
       "      <th>DEROG_woe</th>\n",
       "      <td>0</td>\n",
       "      <td>1788</td>\n",
       "      <td>0.0</td>\n",
       "    </tr>\n",
       "    <tr>\n",
       "      <th>NINQ_woe</th>\n",
       "      <td>0</td>\n",
       "      <td>1788</td>\n",
       "      <td>0.0</td>\n",
       "    </tr>\n",
       "    <tr>\n",
       "      <th>DEBTINC</th>\n",
       "      <td>0</td>\n",
       "      <td>1788</td>\n",
       "      <td>0.0</td>\n",
       "    </tr>\n",
       "    <tr>\n",
       "      <th>LOAN</th>\n",
       "      <td>0</td>\n",
       "      <td>1788</td>\n",
       "      <td>0.0</td>\n",
       "    </tr>\n",
       "    <tr>\n",
       "      <th>CLNO</th>\n",
       "      <td>0</td>\n",
       "      <td>1788</td>\n",
       "      <td>0.0</td>\n",
       "    </tr>\n",
       "    <tr>\n",
       "      <th>NINQ</th>\n",
       "      <td>0</td>\n",
       "      <td>1788</td>\n",
       "      <td>0.0</td>\n",
       "    </tr>\n",
       "    <tr>\n",
       "      <th>CLAGE</th>\n",
       "      <td>0</td>\n",
       "      <td>1788</td>\n",
       "      <td>0.0</td>\n",
       "    </tr>\n",
       "    <tr>\n",
       "      <th>DELINQ</th>\n",
       "      <td>0</td>\n",
       "      <td>1788</td>\n",
       "      <td>0.0</td>\n",
       "    </tr>\n",
       "    <tr>\n",
       "      <th>DEROG</th>\n",
       "      <td>0</td>\n",
       "      <td>1788</td>\n",
       "      <td>0.0</td>\n",
       "    </tr>\n",
       "    <tr>\n",
       "      <th>YOJ</th>\n",
       "      <td>0</td>\n",
       "      <td>1788</td>\n",
       "      <td>0.0</td>\n",
       "    </tr>\n",
       "    <tr>\n",
       "      <th>JOB</th>\n",
       "      <td>0</td>\n",
       "      <td>1788</td>\n",
       "      <td>0.0</td>\n",
       "    </tr>\n",
       "    <tr>\n",
       "      <th>REASON</th>\n",
       "      <td>0</td>\n",
       "      <td>1788</td>\n",
       "      <td>0.0</td>\n",
       "    </tr>\n",
       "    <tr>\n",
       "      <th>VALUE</th>\n",
       "      <td>0</td>\n",
       "      <td>1788</td>\n",
       "      <td>0.0</td>\n",
       "    </tr>\n",
       "    <tr>\n",
       "      <th>MORTDUE</th>\n",
       "      <td>0</td>\n",
       "      <td>1788</td>\n",
       "      <td>0.0</td>\n",
       "    </tr>\n",
       "    <tr>\n",
       "      <th>LOAN_woe</th>\n",
       "      <td>0</td>\n",
       "      <td>1788</td>\n",
       "      <td>0.0</td>\n",
       "    </tr>\n",
       "  </tbody>\n",
       "</table>\n",
       "</div>"
      ],
      "text/plain": [
       "             missing  total  percent\n",
       "vd                 0   1788      0.0\n",
       "VALUE_woe          0   1788      0.0\n",
       "REASON_woe         0   1788      0.0\n",
       "DELINQ_woe         0   1788      0.0\n",
       "CLAGE_woe          0   1788      0.0\n",
       "MORTDUE_woe        0   1788      0.0\n",
       "JOB_woe            0   1788      0.0\n",
       "YOJ_woe            0   1788      0.0\n",
       "CLNO_woe           0   1788      0.0\n",
       "DEBTINC_woe        0   1788      0.0\n",
       "DEROG_woe          0   1788      0.0\n",
       "NINQ_woe           0   1788      0.0\n",
       "DEBTINC            0   1788      0.0\n",
       "LOAN               0   1788      0.0\n",
       "CLNO               0   1788      0.0\n",
       "NINQ               0   1788      0.0\n",
       "CLAGE              0   1788      0.0\n",
       "DELINQ             0   1788      0.0\n",
       "DEROG              0   1788      0.0\n",
       "YOJ                0   1788      0.0\n",
       "JOB                0   1788      0.0\n",
       "REASON             0   1788      0.0\n",
       "VALUE              0   1788      0.0\n",
       "MORTDUE            0   1788      0.0\n",
       "LOAN_woe           0   1788      0.0"
      ]
     },
     "execution_count": 33,
     "metadata": {},
     "output_type": "execute_result"
    }
   ],
   "source": [
    "# Jobs\n",
    "## Let's fill missing values with the residual category\n",
    "test_final['JOB'] = test_final['JOB'].fillna(value = 'Other')\n",
    "\n",
    "# Reason\n",
    "## We fill missing values with the most frequent value ('DebtCon')\n",
    "test_final['REASON'] = test_final['REASON'].fillna('DebtCon')\n",
    "\n",
    "# numeric variables\n",
    "## we input missings with their median (given the outliers detected)\n",
    "test_final['DEBTINC'] = test_final['DEBTINC'].fillna(test_final['DEBTINC'].median())\n",
    "test_final['DEROG'] = test_final['DEROG'].fillna(test_final['DEROG'].median())\n",
    "test_final['DELINQ'] = test_final['DELINQ'].fillna(test_final['DELINQ'].median())\n",
    "test_final['MORTDUE'] = test_final['MORTDUE'].fillna(test_final['MORTDUE'].median())\n",
    "test_final['YOJ'] = test_final['YOJ'].fillna(test_final['YOJ'].median())\n",
    "test_final['NINQ'] = test_final['NINQ'].fillna(test_final['NINQ'].median())\n",
    "test_final['CLAGE'] = test_final['CLAGE'].fillna(test_final['CLAGE'].median())\n",
    "test_final['CLNO'] = test_final['CLNO'].fillna(test_final['CLNO'].median())\n",
    "test_final['VALUE'] = test_final['VALUE'].fillna(test_final['VALUE'].median())\n",
    "\n",
    "# missing check\n",
    "test_final.stb.missing()"
   ]
  },
  {
   "cell_type": "markdown",
   "metadata": {
    "colab_type": "text",
    "id": "7T_GRsnSLrv9"
   },
   "source": [
    "## Categorical variables"
   ]
  },
  {
   "cell_type": "markdown",
   "metadata": {
    "colab_type": "text",
    "id": "RnYbEWimL3Jj"
   },
   "source": [
    "We can drop categorical variables that were transformed to WOEs or perform a One Hot Ecoding to them"
   ]
  },
  {
   "cell_type": "code",
   "execution_count": 34,
   "metadata": {
    "colab": {},
    "colab_type": "code",
    "id": "5SY_aC96L1Yl"
   },
   "outputs": [],
   "source": [
    "# Drop transformed variables\n",
    "train_final = train_final.drop(columns = ['JOB', 'REASON'])\n",
    "test_final = test_final.drop(columns = ['JOB', 'REASON'])"
   ]
  },
  {
   "cell_type": "markdown",
   "metadata": {},
   "source": [
    "## IV Analysis"
   ]
  },
  {
   "cell_type": "code",
   "execution_count": 48,
   "metadata": {},
   "outputs": [
    {
     "data": {
      "text/html": [
       "<div>\n",
       "<style scoped>\n",
       "    .dataframe tbody tr th:only-of-type {\n",
       "        vertical-align: middle;\n",
       "    }\n",
       "\n",
       "    .dataframe tbody tr th {\n",
       "        vertical-align: top;\n",
       "    }\n",
       "\n",
       "    .dataframe thead th {\n",
       "        text-align: right;\n",
       "    }\n",
       "</style>\n",
       "<table border=\"1\" class=\"dataframe\">\n",
       "  <thead>\n",
       "    <tr style=\"text-align: right;\">\n",
       "      <th></th>\n",
       "      <th>variable</th>\n",
       "      <th>info_value</th>\n",
       "    </tr>\n",
       "  </thead>\n",
       "  <tbody>\n",
       "    <tr>\n",
       "      <th>17</th>\n",
       "      <td>DEBTINC_woe</td>\n",
       "      <td>2.187028</td>\n",
       "    </tr>\n",
       "    <tr>\n",
       "      <th>21</th>\n",
       "      <td>LOAN</td>\n",
       "      <td>0.823108</td>\n",
       "    </tr>\n",
       "    <tr>\n",
       "      <th>11</th>\n",
       "      <td>DELINQ</td>\n",
       "      <td>0.656117</td>\n",
       "    </tr>\n",
       "    <tr>\n",
       "      <th>6</th>\n",
       "      <td>DELINQ_woe</td>\n",
       "      <td>0.592269</td>\n",
       "    </tr>\n",
       "    <tr>\n",
       "      <th>3</th>\n",
       "      <td>DEROG</td>\n",
       "      <td>0.440636</td>\n",
       "    </tr>\n",
       "    <tr>\n",
       "      <th>12</th>\n",
       "      <td>DEROG_woe</td>\n",
       "      <td>0.434837</td>\n",
       "    </tr>\n",
       "    <tr>\n",
       "      <th>2</th>\n",
       "      <td>VALUE_woe</td>\n",
       "      <td>0.392219</td>\n",
       "    </tr>\n",
       "    <tr>\n",
       "      <th>8</th>\n",
       "      <td>YOJ</td>\n",
       "      <td>0.329940</td>\n",
       "    </tr>\n",
       "    <tr>\n",
       "      <th>5</th>\n",
       "      <td>CLNO</td>\n",
       "      <td>0.246640</td>\n",
       "    </tr>\n",
       "    <tr>\n",
       "      <th>1</th>\n",
       "      <td>NINQ</td>\n",
       "      <td>0.207704</td>\n",
       "    </tr>\n",
       "    <tr>\n",
       "      <th>7</th>\n",
       "      <td>NINQ_woe</td>\n",
       "      <td>0.200364</td>\n",
       "    </tr>\n",
       "    <tr>\n",
       "      <th>19</th>\n",
       "      <td>JOB_woe</td>\n",
       "      <td>0.118236</td>\n",
       "    </tr>\n",
       "    <tr>\n",
       "      <th>16</th>\n",
       "      <td>MORTDUE</td>\n",
       "      <td>0.098100</td>\n",
       "    </tr>\n",
       "    <tr>\n",
       "      <th>0</th>\n",
       "      <td>VALUE</td>\n",
       "      <td>0.090652</td>\n",
       "    </tr>\n",
       "    <tr>\n",
       "      <th>9</th>\n",
       "      <td>CLAGE</td>\n",
       "      <td>0.063735</td>\n",
       "    </tr>\n",
       "    <tr>\n",
       "      <th>15</th>\n",
       "      <td>DEBTINC</td>\n",
       "      <td>0.038417</td>\n",
       "    </tr>\n",
       "    <tr>\n",
       "      <th>4</th>\n",
       "      <td>YOJ_woe</td>\n",
       "      <td>0.029154</td>\n",
       "    </tr>\n",
       "    <tr>\n",
       "      <th>10</th>\n",
       "      <td>CLNO_woe</td>\n",
       "      <td>0.018926</td>\n",
       "    </tr>\n",
       "    <tr>\n",
       "      <th>18</th>\n",
       "      <td>CLAGE_woe</td>\n",
       "      <td>0.008443</td>\n",
       "    </tr>\n",
       "    <tr>\n",
       "      <th>13</th>\n",
       "      <td>REASON_woe</td>\n",
       "      <td>0.007295</td>\n",
       "    </tr>\n",
       "    <tr>\n",
       "      <th>20</th>\n",
       "      <td>MORTDUE_woe</td>\n",
       "      <td>0.006563</td>\n",
       "    </tr>\n",
       "    <tr>\n",
       "      <th>14</th>\n",
       "      <td>LOAN_woe</td>\n",
       "      <td>0.004259</td>\n",
       "    </tr>\n",
       "  </tbody>\n",
       "</table>\n",
       "</div>"
      ],
      "text/plain": [
       "       variable  info_value\n",
       "17  DEBTINC_woe    2.187028\n",
       "21         LOAN    0.823108\n",
       "11       DELINQ    0.656117\n",
       "6    DELINQ_woe    0.592269\n",
       "3         DEROG    0.440636\n",
       "12    DEROG_woe    0.434837\n",
       "2     VALUE_woe    0.392219\n",
       "8           YOJ    0.329940\n",
       "5          CLNO    0.246640\n",
       "1          NINQ    0.207704\n",
       "7      NINQ_woe    0.200364\n",
       "19      JOB_woe    0.118236\n",
       "16      MORTDUE    0.098100\n",
       "0         VALUE    0.090652\n",
       "9         CLAGE    0.063735\n",
       "15      DEBTINC    0.038417\n",
       "4       YOJ_woe    0.029154\n",
       "10     CLNO_woe    0.018926\n",
       "18    CLAGE_woe    0.008443\n",
       "13   REASON_woe    0.007295\n",
       "20  MORTDUE_woe    0.006563\n",
       "14     LOAN_woe    0.004259"
      ]
     },
     "execution_count": 48,
     "metadata": {},
     "output_type": "execute_result"
    }
   ],
   "source": [
    "# This function calculates information value (IV) for multiple x variables\n",
    "sc.iv(train_final, y = 'vd')"
   ]
  },
  {
   "cell_type": "code",
   "execution_count": 50,
   "metadata": {},
   "outputs": [
    {
     "name": "stdout",
     "output_type": "stream",
     "text": [
      "[INFO] filtering variables ...\n",
      "Variable filtering on 4172 rows and 23 columns in 00:00:13 \n",
      "6 variables are removed\n"
     ]
    },
    {
     "data": {
      "text/html": [
       "<div>\n",
       "<style scoped>\n",
       "    .dataframe tbody tr th:only-of-type {\n",
       "        vertical-align: middle;\n",
       "    }\n",
       "\n",
       "    .dataframe tbody tr th {\n",
       "        vertical-align: top;\n",
       "    }\n",
       "\n",
       "    .dataframe thead th {\n",
       "        text-align: right;\n",
       "    }\n",
       "</style>\n",
       "<table border=\"1\" class=\"dataframe\">\n",
       "  <thead>\n",
       "    <tr style=\"text-align: right;\">\n",
       "      <th></th>\n",
       "      <th>VALUE</th>\n",
       "      <th>NINQ</th>\n",
       "      <th>DEROG</th>\n",
       "      <th>YOJ_woe</th>\n",
       "      <th>CLNO</th>\n",
       "      <th>DELINQ_woe</th>\n",
       "      <th>NINQ_woe</th>\n",
       "      <th>YOJ</th>\n",
       "      <th>CLAGE</th>\n",
       "      <th>DELINQ</th>\n",
       "      <th>DEROG_woe</th>\n",
       "      <th>DEBTINC</th>\n",
       "      <th>MORTDUE</th>\n",
       "      <th>DEBTINC_woe</th>\n",
       "      <th>JOB_woe</th>\n",
       "      <th>LOAN</th>\n",
       "      <th>vd</th>\n",
       "    </tr>\n",
       "  </thead>\n",
       "  <tbody>\n",
       "    <tr>\n",
       "      <th>0</th>\n",
       "      <td>39025.0</td>\n",
       "      <td>1.0</td>\n",
       "      <td>0.0</td>\n",
       "      <td>-0.040366</td>\n",
       "      <td>9.0</td>\n",
       "      <td>0.429758</td>\n",
       "      <td>0.062369</td>\n",
       "      <td>10.5</td>\n",
       "      <td>94.366667</td>\n",
       "      <td>0.0</td>\n",
       "      <td>0.220601</td>\n",
       "      <td>34.654955</td>\n",
       "      <td>25860.0</td>\n",
       "      <td>-1.880721</td>\n",
       "      <td>-0.19424</td>\n",
       "      <td>1100</td>\n",
       "      <td>1</td>\n",
       "    </tr>\n",
       "    <tr>\n",
       "      <th>1</th>\n",
       "      <td>68400.0</td>\n",
       "      <td>0.0</td>\n",
       "      <td>0.0</td>\n",
       "      <td>-0.040366</td>\n",
       "      <td>14.0</td>\n",
       "      <td>-1.180877</td>\n",
       "      <td>0.295176</td>\n",
       "      <td>7.0</td>\n",
       "      <td>121.833333</td>\n",
       "      <td>2.0</td>\n",
       "      <td>0.220601</td>\n",
       "      <td>34.654955</td>\n",
       "      <td>70053.0</td>\n",
       "      <td>-1.880721</td>\n",
       "      <td>-0.19424</td>\n",
       "      <td>1300</td>\n",
       "      <td>1</td>\n",
       "    </tr>\n",
       "    <tr>\n",
       "      <th>3</th>\n",
       "      <td>89200.0</td>\n",
       "      <td>1.0</td>\n",
       "      <td>0.0</td>\n",
       "      <td>0.545228</td>\n",
       "      <td>20.0</td>\n",
       "      <td>0.564183</td>\n",
       "      <td>0.368226</td>\n",
       "      <td>7.0</td>\n",
       "      <td>173.500000</td>\n",
       "      <td>0.0</td>\n",
       "      <td>0.575791</td>\n",
       "      <td>34.654955</td>\n",
       "      <td>64978.0</td>\n",
       "      <td>-1.880721</td>\n",
       "      <td>1.02024</td>\n",
       "      <td>1500</td>\n",
       "      <td>1</td>\n",
       "    </tr>\n",
       "    <tr>\n",
       "      <th>5</th>\n",
       "      <td>40320.0</td>\n",
       "      <td>1.0</td>\n",
       "      <td>0.0</td>\n",
       "      <td>-0.040366</td>\n",
       "      <td>8.0</td>\n",
       "      <td>0.429758</td>\n",
       "      <td>0.062369</td>\n",
       "      <td>9.0</td>\n",
       "      <td>101.466002</td>\n",
       "      <td>0.0</td>\n",
       "      <td>0.220601</td>\n",
       "      <td>37.113614</td>\n",
       "      <td>30548.0</td>\n",
       "      <td>1.204324</td>\n",
       "      <td>-0.19424</td>\n",
       "      <td>1700</td>\n",
       "      <td>1</td>\n",
       "    </tr>\n",
       "    <tr>\n",
       "      <th>7</th>\n",
       "      <td>43034.0</td>\n",
       "      <td>0.0</td>\n",
       "      <td>0.0</td>\n",
       "      <td>-0.040366</td>\n",
       "      <td>8.0</td>\n",
       "      <td>0.429758</td>\n",
       "      <td>0.295176</td>\n",
       "      <td>11.0</td>\n",
       "      <td>88.766030</td>\n",
       "      <td>0.0</td>\n",
       "      <td>0.220601</td>\n",
       "      <td>36.884894</td>\n",
       "      <td>28502.0</td>\n",
       "      <td>1.204324</td>\n",
       "      <td>-0.19424</td>\n",
       "      <td>1800</td>\n",
       "      <td>1</td>\n",
       "    </tr>\n",
       "    <tr>\n",
       "      <th>...</th>\n",
       "      <td>...</td>\n",
       "      <td>...</td>\n",
       "      <td>...</td>\n",
       "      <td>...</td>\n",
       "      <td>...</td>\n",
       "      <td>...</td>\n",
       "      <td>...</td>\n",
       "      <td>...</td>\n",
       "      <td>...</td>\n",
       "      <td>...</td>\n",
       "      <td>...</td>\n",
       "      <td>...</td>\n",
       "      <td>...</td>\n",
       "      <td>...</td>\n",
       "      <td>...</td>\n",
       "      <td>...</td>\n",
       "      <td>...</td>\n",
       "    </tr>\n",
       "    <tr>\n",
       "      <th>5952</th>\n",
       "      <td>94687.0</td>\n",
       "      <td>0.0</td>\n",
       "      <td>0.0</td>\n",
       "      <td>-0.040366</td>\n",
       "      <td>16.0</td>\n",
       "      <td>0.429758</td>\n",
       "      <td>0.295176</td>\n",
       "      <td>16.0</td>\n",
       "      <td>214.426206</td>\n",
       "      <td>0.0</td>\n",
       "      <td>0.220601</td>\n",
       "      <td>34.751158</td>\n",
       "      <td>50240.0</td>\n",
       "      <td>1.204324</td>\n",
       "      <td>-0.19424</td>\n",
       "      <td>88500</td>\n",
       "      <td>0</td>\n",
       "    </tr>\n",
       "    <tr>\n",
       "      <th>5953</th>\n",
       "      <td>94058.0</td>\n",
       "      <td>0.0</td>\n",
       "      <td>0.0</td>\n",
       "      <td>-0.040366</td>\n",
       "      <td>15.0</td>\n",
       "      <td>0.429758</td>\n",
       "      <td>0.295176</td>\n",
       "      <td>16.0</td>\n",
       "      <td>218.304978</td>\n",
       "      <td>0.0</td>\n",
       "      <td>0.220601</td>\n",
       "      <td>34.242465</td>\n",
       "      <td>53307.0</td>\n",
       "      <td>1.323958</td>\n",
       "      <td>-0.19424</td>\n",
       "      <td>88800</td>\n",
       "      <td>0</td>\n",
       "    </tr>\n",
       "    <tr>\n",
       "      <th>5954</th>\n",
       "      <td>93371.0</td>\n",
       "      <td>0.0</td>\n",
       "      <td>0.0</td>\n",
       "      <td>-0.040366</td>\n",
       "      <td>15.0</td>\n",
       "      <td>-0.723884</td>\n",
       "      <td>0.295176</td>\n",
       "      <td>15.0</td>\n",
       "      <td>205.650159</td>\n",
       "      <td>1.0</td>\n",
       "      <td>0.220601</td>\n",
       "      <td>34.818262</td>\n",
       "      <td>48919.0</td>\n",
       "      <td>1.204324</td>\n",
       "      <td>-0.19424</td>\n",
       "      <td>88900</td>\n",
       "      <td>0</td>\n",
       "    </tr>\n",
       "    <tr>\n",
       "      <th>5955</th>\n",
       "      <td>90185.0</td>\n",
       "      <td>0.0</td>\n",
       "      <td>0.0</td>\n",
       "      <td>-0.040366</td>\n",
       "      <td>16.0</td>\n",
       "      <td>0.429758</td>\n",
       "      <td>0.295176</td>\n",
       "      <td>16.0</td>\n",
       "      <td>221.808718</td>\n",
       "      <td>0.0</td>\n",
       "      <td>0.220601</td>\n",
       "      <td>36.112347</td>\n",
       "      <td>57264.0</td>\n",
       "      <td>1.204324</td>\n",
       "      <td>-0.19424</td>\n",
       "      <td>88900</td>\n",
       "      <td>0</td>\n",
       "    </tr>\n",
       "    <tr>\n",
       "      <th>5957</th>\n",
       "      <td>92924.0</td>\n",
       "      <td>0.0</td>\n",
       "      <td>0.0</td>\n",
       "      <td>-0.040366</td>\n",
       "      <td>15.0</td>\n",
       "      <td>0.429758</td>\n",
       "      <td>0.295176</td>\n",
       "      <td>15.0</td>\n",
       "      <td>212.279697</td>\n",
       "      <td>0.0</td>\n",
       "      <td>0.220601</td>\n",
       "      <td>35.556590</td>\n",
       "      <td>54045.0</td>\n",
       "      <td>1.204324</td>\n",
       "      <td>-0.19424</td>\n",
       "      <td>89200</td>\n",
       "      <td>0</td>\n",
       "    </tr>\n",
       "  </tbody>\n",
       "</table>\n",
       "<p>4172 rows × 17 columns</p>\n",
       "</div>"
      ],
      "text/plain": [
       "        VALUE  NINQ  DEROG   YOJ_woe  CLNO  DELINQ_woe  NINQ_woe   YOJ       CLAGE  DELINQ  DEROG_woe    DEBTINC  MORTDUE  DEBTINC_woe  JOB_woe   LOAN  vd\n",
       "0     39025.0   1.0    0.0 -0.040366   9.0    0.429758  0.062369  10.5   94.366667     0.0   0.220601  34.654955  25860.0    -1.880721 -0.19424   1100   1\n",
       "1     68400.0   0.0    0.0 -0.040366  14.0   -1.180877  0.295176   7.0  121.833333     2.0   0.220601  34.654955  70053.0    -1.880721 -0.19424   1300   1\n",
       "3     89200.0   1.0    0.0  0.545228  20.0    0.564183  0.368226   7.0  173.500000     0.0   0.575791  34.654955  64978.0    -1.880721  1.02024   1500   1\n",
       "5     40320.0   1.0    0.0 -0.040366   8.0    0.429758  0.062369   9.0  101.466002     0.0   0.220601  37.113614  30548.0     1.204324 -0.19424   1700   1\n",
       "7     43034.0   0.0    0.0 -0.040366   8.0    0.429758  0.295176  11.0   88.766030     0.0   0.220601  36.884894  28502.0     1.204324 -0.19424   1800   1\n",
       "...       ...   ...    ...       ...   ...         ...       ...   ...         ...     ...        ...        ...      ...          ...      ...    ...  ..\n",
       "5952  94687.0   0.0    0.0 -0.040366  16.0    0.429758  0.295176  16.0  214.426206     0.0   0.220601  34.751158  50240.0     1.204324 -0.19424  88500   0\n",
       "5953  94058.0   0.0    0.0 -0.040366  15.0    0.429758  0.295176  16.0  218.304978     0.0   0.220601  34.242465  53307.0     1.323958 -0.19424  88800   0\n",
       "5954  93371.0   0.0    0.0 -0.040366  15.0   -0.723884  0.295176  15.0  205.650159     1.0   0.220601  34.818262  48919.0     1.204324 -0.19424  88900   0\n",
       "5955  90185.0   0.0    0.0 -0.040366  16.0    0.429758  0.295176  16.0  221.808718     0.0   0.220601  36.112347  57264.0     1.204324 -0.19424  88900   0\n",
       "5957  92924.0   0.0    0.0 -0.040366  15.0    0.429758  0.295176  15.0  212.279697     0.0   0.220601  35.556590  54045.0     1.204324 -0.19424  89200   0\n",
       "\n",
       "[4172 rows x 17 columns]"
      ]
     },
     "execution_count": 50,
     "metadata": {},
     "output_type": "execute_result"
    }
   ],
   "source": [
    "# This function filter variables base on specified conditions, such as information value,\n",
    "# missing rate, identical value rate.\n",
    "sc.var_filter(train_final, y = 'vd')"
   ]
  },
  {
   "cell_type": "markdown",
   "metadata": {
    "colab_type": "text",
    "id": "lyxOy0x4JdOP"
   },
   "source": [
    "## Logistic Regression"
   ]
  },
  {
   "cell_type": "markdown",
   "metadata": {
    "colab_type": "text",
    "id": "xMiJsVCMLIMm"
   },
   "source": [
    "##### 1) X / Y split"
   ]
  },
  {
   "cell_type": "code",
   "execution_count": 35,
   "metadata": {
    "colab": {},
    "colab_type": "code",
    "id": "dNuqGXD1Jczv"
   },
   "outputs": [],
   "source": [
    "y_train = train_final.loc[:,'vd']\n",
    "X_train = train_final.loc[:,train_final.columns != 'vd']\n",
    "y_test = test_final.loc[:,'vd']\n",
    "X_test = test_final.loc[:,train_final.columns != 'vd']"
   ]
  },
  {
   "cell_type": "markdown",
   "metadata": {
    "colab_type": "text",
    "id": "3gZTaLBFMbaS"
   },
   "source": [
    "#### 2) Fit model"
   ]
  },
  {
   "cell_type": "code",
   "execution_count": 43,
   "metadata": {
    "colab": {
     "base_uri": "https://localhost:8080/",
     "height": 119
    },
    "colab_type": "code",
    "id": "Ba6ERlSGLRUJ",
    "outputId": "58c9f997-5deb-4212-c17b-d3a87413fc04"
   },
   "outputs": [
    {
     "name": "stdout",
     "output_type": "stream",
     "text": [
      "[[-2.30571731e-05 -6.26786760e-06  3.68635074e-06 -1.51766228e-02\n",
      "   1.36507030e-01  6.30783775e-01 -6.26492026e-03 -2.14996444e-02\n",
      "  -4.41055850e-02  6.33782252e-03 -9.74523407e-01 -7.00554205e-01\n",
      "  -5.91550615e-01 -8.96358065e-01 -3.90032347e+00 -1.28711126e+00\n",
      "  -1.18721267e+00 -3.16017542e+00 -2.67174379e+00 -6.91454500e-02\n",
      "  -2.35387484e-01 -3.63894758e+00]]\n"
     ]
    }
   ],
   "source": [
    "# logistic regression ------\n",
    "from sklearn.linear_model import LogisticRegression\n",
    "lr = LogisticRegression(penalty = 'l1', C= 0.9)\n",
    "lr.fit(X_train, y_train)\n",
    "print(lr.coef_)"
   ]
  },
  {
   "cell_type": "markdown",
   "metadata": {
    "colab_type": "text",
    "id": "tGKKo_EgMewJ"
   },
   "source": [
    "#### 3) Performance"
   ]
  },
  {
   "cell_type": "code",
   "execution_count": 44,
   "metadata": {
    "colab": {
     "base_uri": "https://localhost:8080/",
     "height": 443
    },
    "colab_type": "code",
    "id": "_nyxBrEcMh4e",
    "outputId": "cacf6d70-d49c-4a8c-be72-5773afceafca"
   },
   "outputs": [
    {
     "data": {
      "image/png": "[encoded data removed]",
      "text/plain": [
       "<Figure size 432x288 with 2 Axes>"
      ]
     },
     "metadata": {
      "needs_background": "light"
     },
     "output_type": "display_data"
    },
    {
     "data": {
      "image/png": "[encoded data removed]",
      "text/plain": [
       "<Figure size 432x288 with 2 Axes>"
      ]
     },
     "metadata": {
      "needs_background": "light"
     },
     "output_type": "display_data"
    }
   ],
   "source": [
    "# predicted proability\n",
    "train_pred = lr.predict_proba(X_train)[:,1]\n",
    "test_pred = lr.predict_proba(X_test)[:,1]\n",
    "\n",
    "# performance ks & roc ------\n",
    "train_perf = sc.perf_eva(y_train, train_pred, title = \"train\")\n",
    "test_perf = sc.perf_eva(y_test, test_pred, title = \"test\")"
   ]
  },
  {
   "cell_type": "code",
   "execution_count": 45,
   "metadata": {
    "colab": {
     "base_uri": "https://localhost:8080/",
     "height": 85
    },
    "colab_type": "code",
    "id": "5RvnO26uRHYf",
    "outputId": "718b66a2-0761-4a41-9f7c-fa4c110b1c52"
   },
   "outputs": [
    {
     "name": "stdout",
     "output_type": "stream",
     "text": [
      "Accuracy\n",
      "0.8959731543624161\n",
      "AUC Score\n",
      "0.8067696680349288\n"
     ]
    }
   ],
   "source": [
    "from sklearn.metrics import confusion_matrix, accuracy_score, roc_auc_score, classification_report, roc_curve\n",
    "\n",
    "predictions = lr.predict(X_test)\n",
    "\n",
    "print('Accuracy')\n",
    "print(accuracy_score(y_test, predictions))\n",
    "print('AUC Score')\n",
    "print(roc_auc_score(y_test, predictions))"
   ]
  },
  {
   "cell_type": "code",
   "execution_count": 46,
   "metadata": {
    "colab": {
     "base_uri": "https://localhost:8080/",
     "height": 170
    },
    "colab_type": "code",
    "id": "ITbp4P9UVB7V",
    "outputId": "a60dd665-5bc9-443f-9747-4305aea5a90b"
   },
   "outputs": [
    {
     "name": "stdout",
     "output_type": "stream",
     "text": [
      "              precision    recall  f1-score   support\n",
      "\n",
      "           0       0.92      0.96      0.94      1431\n",
      "           1       0.79      0.66      0.72       357\n",
      "\n",
      "    accuracy                           0.90      1788\n",
      "   macro avg       0.85      0.81      0.83      1788\n",
      "weighted avg       0.89      0.90      0.89      1788\n",
      "\n"
     ]
    }
   ],
   "source": [
    "print(classification_report(y_test,predictions))"
   ]
  },
  {
   "cell_type": "code",
   "execution_count": 47,
   "metadata": {
    "colab": {
     "base_uri": "https://localhost:8080/",
     "height": 295
    },
    "colab_type": "code",
    "id": "lYhOkis-VLlw",
    "outputId": "3d9fe189-3ff7-421e-8875-b5fcc5f46bc2"
   },
   "outputs": [
    {
     "data": {
      "image/png": "[encoded data removed]",
      "text/plain": [
       "<Figure size 432x288 with 2 Axes>"
      ]
     },
     "metadata": {
      "needs_background": "light"
     },
     "output_type": "display_data"
    }
   ],
   "source": [
    "conf_log2 = confusion_matrix(y_test,predictions)\n",
    "sns.heatmap(data=conf_log2, annot=True, linewidth=0.7, linecolor='k', fmt='.0f', cmap='magma')\n",
    "plt.xlabel('Predicted Values')\n",
    "plt.ylabel('True Values')\n",
    "plt.title('Confusion Matrix - Logistic Regression');"
   ]
  }
 ],
 "metadata": {
  "colab": {
   "collapsed_sections": [],
   "name": "WOEs",
   "provenance": []
  },
  "kernelspec": {
   "display_name": "Python 3",
   "language": "python",
   "name": "python3"
  },
  "language_info": {
   "codemirror_mode": {
    "name": "ipython",
    "version": 3
   },
   "file_extension": ".py",
   "mimetype": "text/x-python",
   "name": "python",
   "nbconvert_exporter": "python",
   "pygments_lexer": "ipython3",
   "version": "3.7.3"
  }
 },
 "nbformat": 4,
 "nbformat_minor": 1
}
